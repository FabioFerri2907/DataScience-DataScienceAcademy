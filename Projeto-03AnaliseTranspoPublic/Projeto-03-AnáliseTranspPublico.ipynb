{
 "cells": [
  {
   "cell_type": "markdown",
   "id": "b8bdcab8",
   "metadata": {},
   "source": [
    "# <font color='blue'>Data Science Academy</font>\n",
    "# <font color='blue'>Big Data Real-Time Analytics com Python e Spark</font>\n",
    "\n",
    "## <font color='blue'>Mini-Projeto 3</font>\n",
    "\n",
    "### <font color='blue'>Análise Transporte Público = Fev 2024</font>"
   ]
  },
  {
   "cell_type": "code",
   "execution_count": 1,
   "id": "5c34d4e8",
   "metadata": {
    "tags": []
   },
   "outputs": [
    {
     "name": "stdout",
     "output_type": "stream",
     "text": [
      "Versão da Linguagem Python Usada Neste Jupyter Notebook: 3.11.5\n"
     ]
    }
   ],
   "source": [
    "# Versão da Linguagem Python\n",
    "from platform import python_version\n",
    "print('Versão da Linguagem Python Usada Neste Jupyter Notebook:', python_version())"
   ]
  },
  {
   "cell_type": "code",
   "execution_count": 2,
   "id": "6ce62ed9",
   "metadata": {
    "tags": []
   },
   "outputs": [],
   "source": [
    "# Importa o findspark e inicializa\n",
    "import findspark\n",
    "findspark.init()"
   ]
  },
  {
   "cell_type": "code",
   "execution_count": 3,
   "id": "b61453ae",
   "metadata": {
    "tags": []
   },
   "outputs": [],
   "source": [
    "# Imports\n",
    "import pyspark\n",
    "from pyspark import SparkContext\n",
    "from pyspark.sql import SparkSession\n",
    "from pyspark.sql import Window\n",
    "from pyspark.sql.functions import col\n",
    "from pyspark.sql.functions import row_number\n",
    "from pyspark.sql.functions import lead  \n",
    "from pyspark.sql.functions import min, max\n",
    "from pyspark.sql.functions import unix_timestamp\n",
    "from pyspark.sql.functions import col,isnan, when, count\n",
    "from pyspark.sql.functions import mean\n",
    "import pyspark.sql.functions as F\n",
    "from pyspark.sql.functions import month\n",
    "import pandas as pd\n",
    "from pyspark.sql.types import IntegerType\n",
    "from sklearn import preprocessing\n",
    "from pyspark.ml.feature import StringIndexer\n",
    "import matplotlib.pyplot as plt\n",
    "import seaborn as sns\n",
    "from scipy.stats import norm"
   ]
  },
  {
   "cell_type": "code",
   "execution_count": 4,
   "id": "3dffe52b",
   "metadata": {
    "tags": []
   },
   "outputs": [
    {
     "name": "stdout",
     "output_type": "stream",
     "text": [
      "Author: Data Science Academy\n",
      "\n",
      "seaborn   : 0.12.2\n",
      "sklearn   : 1.3.0\n",
      "pyspark   : 3.4.1\n",
      "findspark : 2.0.1\n",
      "matplotlib: 3.7.2\n",
      "pandas    : 2.0.3\n",
      "\n"
     ]
    }
   ],
   "source": [
    "# Versões dos pacotes usados neste jupyter notebook\n",
    "%reload_ext watermark\n",
    "%watermark -a \"Data Science Academy\" --iversions"
   ]
  },
  {
   "cell_type": "markdown",
   "id": "9e52e6e7",
   "metadata": {},
   "source": [
    "## Preparando o Ambiente Spark"
   ]
  },
  {
   "cell_type": "code",
   "execution_count": 5,
   "id": "5f9088f5",
   "metadata": {
    "tags": []
   },
   "outputs": [
    {
     "name": "stderr",
     "output_type": "stream",
     "text": [
      "Setting default log level to \"WARN\".\n",
      "To adjust logging level use sc.setLogLevel(newLevel). For SparkR, use setLogLevel(newLevel).\n",
      "24/02/12 20:18:11 WARN NativeCodeLoader: Unable to load native-hadoop library for your platform... using builtin-java classes where applicable\n"
     ]
    }
   ],
   "source": [
    "# Criando o Spark Context\n",
    "sc = SparkContext(appName = \"Mini-Projeto3-TransportPublic3\" )"
   ]
  },
  {
   "cell_type": "code",
   "execution_count": 6,
   "id": "d6e0b3fa",
   "metadata": {
    "tags": []
   },
   "outputs": [],
   "source": [
    "# Cria a sessão\n",
    "spark = SparkSession.builder.getOrCreate()"
   ]
  },
  {
   "cell_type": "code",
   "execution_count": 7,
   "id": "9f7ab932",
   "metadata": {
    "tags": []
   },
   "outputs": [
    {
     "data": {
      "text/html": [
       "\n",
       "            <div>\n",
       "                <p><b>SparkSession - in-memory</b></p>\n",
       "                \n",
       "        <div>\n",
       "            <p><b>SparkContext</b></p>\n",
       "\n",
       "            <p><a href=\"http://localhost:4040\">Spark UI</a></p>\n",
       "\n",
       "            <dl>\n",
       "              <dt>Version</dt>\n",
       "                <dd><code>v3.4.1</code></dd>\n",
       "              <dt>Master</dt>\n",
       "                <dd><code>local[*]</code></dd>\n",
       "              <dt>AppName</dt>\n",
       "                <dd><code>Mini-Projeto3-TransportPublic3</code></dd>\n",
       "            </dl>\n",
       "        </div>\n",
       "        \n",
       "            </div>\n",
       "        "
      ],
      "text/plain": [
       "<pyspark.sql.session.SparkSession at 0x7f18902bbb10>"
      ]
     },
     "execution_count": 7,
     "metadata": {},
     "output_type": "execute_result"
    }
   ],
   "source": [
    "spark"
   ]
  },
  {
   "cell_type": "code",
   "execution_count": null,
   "id": "9049ba57",
   "metadata": {},
   "outputs": [],
   "source": [
    "\n"
   ]
  },
  {
   "cell_type": "markdown",
   "id": "3b5b6c9d",
   "metadata": {},
   "source": [
    "## Carregando os Dados Como Dataframe do Spark"
   ]
  },
  {
   "cell_type": "code",
   "execution_count": 8,
   "id": "87a7c9d1",
   "metadata": {
    "tags": []
   },
   "outputs": [],
   "source": [
    "# TFL Bus Safety.xlsx\n",
    "# Nome do arquivo\n",
    "arquivo = 'TFL Bus Safety.xlsx'"
   ]
  },
  {
   "cell_type": "code",
   "execution_count": 9,
   "id": "cfc05704",
   "metadata": {
    "tags": []
   },
   "outputs": [],
   "source": [
    "# Carrega como dataframe do Spark\n",
    "\n",
    "df_pandas = pd.read_excel(arquivo)\n",
    "\n",
    "# Convert Pandas dataframe to Spark dataframe\n",
    "df_spark = spark.createDataFrame(df_pandas)\n",
    "\n",
    "\n"
   ]
  },
  {
   "cell_type": "markdown",
   "id": "142bf1e9-8e85-47ba-a1a0-96ec618bd5ab",
   "metadata": {},
   "source": [
    "## Funções"
   ]
  },
  {
   "cell_type": "code",
   "execution_count": 10,
   "id": "b7167a00-bad9-4e80-b928-15b5b48d9b4f",
   "metadata": {
    "tags": []
   },
   "outputs": [],
   "source": [
    "# Function to unify texts\n",
    "def unify_text(text):\n",
    "    # Convert text to lowercase and remove whitespace\n",
    "    text = text.lower().strip()\n",
    "    # You can add more text processing steps here if needed\n",
    "    return text\n"
   ]
  },
  {
   "cell_type": "markdown",
   "id": "06413640-7615-421a-9a82-ad7e55104b59",
   "metadata": {},
   "source": [
    "## Data Wrangling"
   ]
  },
  {
   "cell_type": "code",
   "execution_count": 11,
   "id": "bf3d9a84-9877-40cc-a202-d80e27941fb1",
   "metadata": {
    "tags": []
   },
   "outputs": [],
   "source": [
    "df_pandas['Victim Category'] = df_pandas['Victim Category'].apply(unify_text)\n",
    "df_spark = spark.createDataFrame(df_pandas)\n"
   ]
  },
  {
   "cell_type": "code",
   "execution_count": 12,
   "id": "d18eb550-f69b-4943-8fcf-e99b2c4ad0a2",
   "metadata": {
    "tags": []
   },
   "outputs": [
    {
     "data": {
      "text/plain": [
       "DataFrame[Year: bigint, Date Of Incident: timestamp, Route: string, Operator: string, Group Name: string, Bus Garage: string, Borough: string, Injury Result Description: string, Incident Event Type: string, Victim Category: string, Victims Sex: string, Victims Age: string]"
      ]
     },
     "execution_count": 12,
     "metadata": {},
     "output_type": "execute_result"
    }
   ],
   "source": [
    "# Verifica Count of Null, None, NaN of All DataFrame Columns\n",
    "df_spark.dropna()\n"
   ]
  },
  {
   "cell_type": "code",
   "execution_count": 13,
   "id": "112d735c",
   "metadata": {
    "tags": []
   },
   "outputs": [
    {
     "data": {
      "text/plain": [
       "pyspark.sql.dataframe.DataFrame"
      ]
     },
     "execution_count": 13,
     "metadata": {},
     "output_type": "execute_result"
    }
   ],
   "source": [
    "type(df_spark)"
   ]
  },
  {
   "cell_type": "code",
   "execution_count": 14,
   "id": "9c832070-4c5d-440e-81c5-61deb5606492",
   "metadata": {
    "tags": []
   },
   "outputs": [
    {
     "name": "stdout",
     "output_type": "stream",
     "text": [
      "root\n",
      " |-- Year: long (nullable = true)\n",
      " |-- DateOfIncident: timestamp (nullable = true)\n",
      " |-- Route: string (nullable = true)\n",
      " |-- Operator: string (nullable = true)\n",
      " |-- Group Name: string (nullable = true)\n",
      " |-- BusGarage: string (nullable = true)\n",
      " |-- Borough: string (nullable = true)\n",
      " |-- InjuryResultDescription: string (nullable = true)\n",
      " |-- IncidentEventType: string (nullable = true)\n",
      " |-- VictimCategory: string (nullable = true)\n",
      " |-- VictimsSex: string (nullable = true)\n",
      " |-- VictimsAge: string (nullable = true)\n",
      "\n"
     ]
    },
    {
     "name": "stderr",
     "output_type": "stream",
     "text": [
      "                                                                                \r"
     ]
    }
   ],
   "source": [
    "# Remove os espaços das colunas\n",
    "df_spark = df_spark.withColumnRenamed(\"Date Of Incident\",\"DateOfIncident\") \\\n",
    "                   .withColumnRenamed(\"Bus Garage\",\"BusGarage\") \\\n",
    "                   .withColumnRenamed(\"Injury Result Description\",\"InjuryResultDescription\") \\\n",
    "                   .withColumnRenamed(\"Incident Event Type\",\"IncidentEventType\") \\\n",
    "                   .withColumnRenamed(\"Victim Category\",\"VictimCategory\") \\\n",
    "                   .withColumnRenamed(\"Victims Sex\",\"VictimsSex\") \\\n",
    "                   .withColumnRenamed(\"Victims Age\",\"VictimsAge\")                  \n",
    "df_spark.printSchema()\n",
    "\n",
    "df_spark = df_spark.withColumn ('MonthofIncident', month (df_spark ['DateOfIncident'])) \n",
    "\n",
    "df_pandas = df_spark.select('Year', 'Route', 'Operator', 'BusGarage',  'InjuryResultDescription', 'IncidentEventType', 'VictimCategory', 'VictimsAge', 'MonthofIncident').toPandas()\n",
    "\n"
   ]
  },
  {
   "cell_type": "code",
   "execution_count": 15,
   "id": "59db4834-62f3-483f-b43a-c0f15e903a42",
   "metadata": {
    "tags": []
   },
   "outputs": [],
   "source": [
    "# Para todos os valores \"Unknown\" foram removidos do Dataset, por não representar a categoria correta e não distorcer as análises \n",
    "df_spark = df_spark[(df_spark['VictimsAge'] != 'Unknown')]\n",
    "df_spark = df_spark[(df_spark['VictimsSex'] != 'Unknown')]\n"
   ]
  },
  {
   "cell_type": "markdown",
   "id": "08713b69",
   "metadata": {},
   "source": [
    "## Análise Exploratória"
   ]
  },
  {
   "cell_type": "code",
   "execution_count": 16,
   "id": "def0ecbe",
   "metadata": {
    "tags": []
   },
   "outputs": [
    {
     "name": "stdout",
     "output_type": "stream",
     "text": [
      "+----+-------------------+-----+--------------+----------+--------------------+-------------------+-----------------------+-----------------+--------------+----------+----------+---------------+\n",
      "|Year|     DateOfIncident|Route|      Operator|Group Name|           BusGarage|            Borough|InjuryResultDescription|IncidentEventType|VictimCategory|VictimsSex|VictimsAge|MonthofIncident|\n",
      "+----+-------------------+-----+--------------+----------+--------------------+-------------------+-----------------------+-----------------+--------------+----------+----------+---------------+\n",
      "|2015|2015-01-01 00:00:00|    1|London General|  Go-Ahead|Garage Not Available|          Southwark|   Injuries treated ...| Onboard Injuries|     passenger|      Male|     Child|              1|\n",
      "|2015|2015-01-01 00:00:00|    5|   East London|Stagecoach|Garage Not Available|           Havering|   Taken to Hospital...| Onboard Injuries|     passenger|      Male|   Elderly|              1|\n",
      "|2015|2015-01-01 00:00:00|    5|   East London|Stagecoach|Garage Not Available|None London Borough|   Taken to Hospital...| Onboard Injuries|     passenger|      Male|   Elderly|              1|\n",
      "|2015|2015-01-01 00:00:00|    6|     Metroline| Metroline|Garage Not Available|        Westminster|   Reported Minor In...| Onboard Injuries|    pedestrian|    Female|   Elderly|              1|\n",
      "|2015|2015-01-01 00:00:00|    6|     Metroline| Metroline|Garage Not Available|        Westminster|   Taken to Hospital...| Onboard Injuries|     passenger|    Female|   Elderly|              1|\n",
      "+----+-------------------+-----+--------------+----------+--------------------+-------------------+-----------------------+-----------------+--------------+----------+----------+---------------+\n",
      "only showing top 5 rows\n",
      "\n"
     ]
    }
   ],
   "source": [
    "df_spark.show(5)"
   ]
  },
  {
   "cell_type": "code",
   "execution_count": null,
   "id": "25e930ce",
   "metadata": {
    "tags": []
   },
   "outputs": [],
   "source": []
  },
  {
   "cell_type": "code",
   "execution_count": 17,
   "id": "fef9f92e",
   "metadata": {
    "tags": []
   },
   "outputs": [
    {
     "name": "stderr",
     "output_type": "stream",
     "text": [
      "24/02/12 20:18:30 WARN SQLConf: The SQL config 'spark.sql.execution.arrow.enabled' has been deprecated in Spark v3.0 and may be removed in the future. Use 'spark.sql.execution.arrow.pyspark.enabled' instead of it.\n",
      "                                                                                \r"
     ]
    },
    {
     "name": "stdout",
     "output_type": "stream",
     "text": [
      "(15312, 13)\n"
     ]
    }
   ],
   "source": [
    "# Número de registros\n",
    "spark.conf.set(\"spark.sql.execution.arrow.enabled\", \"true\")\n",
    "df_pandas=df_spark.toPandas()\n",
    "print(df_pandas.shape)"
   ]
  },
  {
   "cell_type": "markdown",
   "id": "3c72388d-9fa7-4284-a8d4-064d24d40c2c",
   "metadata": {},
   "source": []
  },
  {
   "cell_type": "code",
   "execution_count": null,
   "id": "3100d4d3-807d-4167-90bb-42dd3845f68f",
   "metadata": {
    "tags": []
   },
   "outputs": [],
   "source": []
  },
  {
   "cell_type": "markdown",
   "id": "b4b081de",
   "metadata": {},
   "source": [
    "## Criando Tabela Temporária\n",
    "\n",
    "Criamos uma tabela temporária para executar consultas SQL nos dados. A tabela temporária existe somente nesta sessão."
   ]
  },
  {
   "cell_type": "code",
   "execution_count": 18,
   "id": "6abc75eb",
   "metadata": {
    "tags": []
   },
   "outputs": [],
   "source": [
    "# Cria tabela temporária\n",
    "df_spark.createOrReplaceTempView(\"tb_transpopublico\")"
   ]
  },
  {
   "cell_type": "code",
   "execution_count": 19,
   "id": "ee018f6b",
   "metadata": {
    "tags": []
   },
   "outputs": [
    {
     "name": "stdout",
     "output_type": "stream",
     "text": [
      "+--------------------+\n",
      "|            col_name|\n",
      "+--------------------+\n",
      "|                Year|\n",
      "|      DateOfIncident|\n",
      "|               Route|\n",
      "|            Operator|\n",
      "|          Group Name|\n",
      "|           BusGarage|\n",
      "|             Borough|\n",
      "|InjuryResultDescr...|\n",
      "|   IncidentEventType|\n",
      "|      VictimCategory|\n",
      "|          VictimsSex|\n",
      "|          VictimsAge|\n",
      "|     MonthofIncident|\n",
      "+--------------------+\n",
      "\n"
     ]
    }
   ],
   "source": [
    "# Verificando as colunas da tabela\n",
    "spark.sql(\"SHOW COLUMNS FROM tb_transpopublico\").show()"
   ]
  },
  {
   "cell_type": "code",
   "execution_count": 20,
   "id": "a52f5b75",
   "metadata": {
    "tags": []
   },
   "outputs": [
    {
     "name": "stdout",
     "output_type": "stream",
     "text": [
      "+----+-------------------+-----+--------------+----------+--------------------+-------------------+-----------------------+-----------------+--------------+----------+----------+---------------+\n",
      "|Year|     DateOfIncident|Route|      Operator|Group Name|           BusGarage|            Borough|InjuryResultDescription|IncidentEventType|VictimCategory|VictimsSex|VictimsAge|MonthofIncident|\n",
      "+----+-------------------+-----+--------------+----------+--------------------+-------------------+-----------------------+-----------------+--------------+----------+----------+---------------+\n",
      "|2015|2015-01-01 00:00:00|    1|London General|  Go-Ahead|Garage Not Available|          Southwark|   Injuries treated ...| Onboard Injuries|     passenger|      Male|     Child|              1|\n",
      "|2015|2015-01-01 00:00:00|    5|   East London|Stagecoach|Garage Not Available|           Havering|   Taken to Hospital...| Onboard Injuries|     passenger|      Male|   Elderly|              1|\n",
      "|2015|2015-01-01 00:00:00|    5|   East London|Stagecoach|Garage Not Available|None London Borough|   Taken to Hospital...| Onboard Injuries|     passenger|      Male|   Elderly|              1|\n",
      "|2015|2015-01-01 00:00:00|    6|     Metroline| Metroline|Garage Not Available|        Westminster|   Reported Minor In...| Onboard Injuries|    pedestrian|    Female|   Elderly|              1|\n",
      "|2015|2015-01-01 00:00:00|    6|     Metroline| Metroline|Garage Not Available|        Westminster|   Taken to Hospital...| Onboard Injuries|     passenger|    Female|   Elderly|              1|\n",
      "+----+-------------------+-----+--------------+----------+--------------------+-------------------+-----------------------+-----------------+--------------+----------+----------+---------------+\n",
      "\n"
     ]
    }
   ],
   "source": [
    "# Visualizando os 5 primeiros registros\n",
    "spark.sql(\"SELECT * FROM tb_transpopublico LIMIT 5\").show()"
   ]
  },
  {
   "cell_type": "code",
   "execution_count": 21,
   "id": "4c059130",
   "metadata": {
    "tags": []
   },
   "outputs": [
    {
     "name": "stdout",
     "output_type": "stream",
     "text": [
      "+--------------------+---------+-------+\n",
      "|            col_name|data_type|comment|\n",
      "+--------------------+---------+-------+\n",
      "|                Year|   bigint|   null|\n",
      "|      DateOfIncident|timestamp|   null|\n",
      "|               Route|   string|   null|\n",
      "|            Operator|   string|   null|\n",
      "|          Group Name|   string|   null|\n",
      "|           BusGarage|   string|   null|\n",
      "|             Borough|   string|   null|\n",
      "|InjuryResultDescr...|   string|   null|\n",
      "|   IncidentEventType|   string|   null|\n",
      "|      VictimCategory|   string|   null|\n",
      "|          VictimsSex|   string|   null|\n",
      "|          VictimsAge|   string|   null|\n",
      "|     MonthofIncident|      int|   null|\n",
      "+--------------------+---------+-------+\n",
      "\n"
     ]
    }
   ],
   "source": [
    "# Describe da tabela\n",
    "spark.sql(\"DESCRIBE tb_transpopublico\").show()"
   ]
  },
  {
   "cell_type": "code",
   "execution_count": null,
   "id": "f3961690-f134-46fd-818f-84657932a636",
   "metadata": {
    "tags": []
   },
   "outputs": [],
   "source": [
    "\n",
    "\n"
   ]
  },
  {
   "cell_type": "code",
   "execution_count": 22,
   "id": "d3730d96-49bb-4dec-9e9f-378b67c2c018",
   "metadata": {
    "tags": []
   },
   "outputs": [
    {
     "data": {
      "image/png": "[encoded data removed]",
      "text/plain": [
       "<Figure size 640x480 with 1 Axes>"
      ]
     },
     "metadata": {},
     "output_type": "display_data"
    }
   ],
   "source": [
    "\n",
    "\n",
    "# Calculate count per category VictimCategory\n",
    "df_pandas['VictimCategory'].value_counts().plot(kind='bar')\n",
    "plt.xlabel('Categoria da Vítima')            \n",
    "plt.ylabel('Número de Acidentes')\n",
    "plt.title(' Número de Acidentes X Categoria da Vítima ') \n",
    "plt.show()"
   ]
  },
  {
   "cell_type": "code",
   "execution_count": 23,
   "id": "adc9175e-3088-4a3d-b78a-7e73e9ae1441",
   "metadata": {
    "tags": []
   },
   "outputs": [
    {
     "data": {
      "image/png": "[encoded data removed]",
      "text/plain": [
       "<Figure size 640x480 with 1 Axes>"
      ]
     },
     "metadata": {},
     "output_type": "display_data"
    }
   ],
   "source": [
    "\n",
    "# Calculate count per category VictimAge\n",
    "df_pandas['VictimsAge'].value_counts().plot(kind='bar')\n",
    "plt.xlabel('Idade da Vítima')            \n",
    "plt.ylabel('Número de Acidentes')\n",
    "plt.title(' Número de Acidentes X Idade da Vítima ') \n",
    "plt.show()"
   ]
  },
  {
   "cell_type": "code",
   "execution_count": 24,
   "id": "0dedcbe7-b622-4b14-af64-f4d180b18424",
   "metadata": {
    "tags": []
   },
   "outputs": [
    {
     "data": {
      "image/png": "[encoded data removed]",
      "text/plain": [
       "<Figure size 640x480 with 1 Axes>"
      ]
     },
     "metadata": {},
     "output_type": "display_data"
    }
   ],
   "source": [
    "\n",
    "# Calculate count per category VictimAge\n",
    "df_pandas['IncidentEventType'].value_counts().plot(kind='bar')\n",
    "plt.xlabel('Tipo de Acidente')            \n",
    "plt.ylabel('Número de Acidentes')\n",
    "plt.title(' Número de Acidentes X Tipo de Acidente ') \n",
    "plt.show()"
   ]
  },
  {
   "cell_type": "markdown",
   "id": "35f2ea9f",
   "metadata": {},
   "source": [
    "## Respostas  Projeo Análise de Risco no Transporte Público\n",
    "# Análise Descritiva"
   ]
  },
  {
   "cell_type": "code",
   "execution_count": null,
   "id": "6ba8fed6",
   "metadata": {
    "tags": []
   },
   "outputs": [],
   "source": []
  },
  {
   "cell_type": "code",
   "execution_count": 25,
   "id": "6840760d",
   "metadata": {
    "tags": []
   },
   "outputs": [
    {
     "name": "stderr",
     "output_type": "stream",
     "text": [
      "[Stage 4:>                                                          (0 + 4) / 4]\r"
     ]
    },
    {
     "name": "stdout",
     "output_type": "stream",
     "text": [
      "+----------+-----+\n",
      "|VictimsSex|count|\n",
      "+----------+-----+\n",
      "|    Female| 9090|\n",
      "|      Male| 6222|\n",
      "+----------+-----+\n",
      "\n"
     ]
    },
    {
     "name": "stderr",
     "output_type": "stream",
     "text": [
      "                                                                                \r"
     ]
    }
   ],
   "source": [
    "# 1- Qual a quantidade de incidentes por gênero?\n",
    "# Não foi removido os valores Unknown por causa de detalhe do conjunto e falta de informações do site.\n",
    "df_spark.groupBy(\"VictimsSex\").count().show()"
   ]
  },
  {
   "cell_type": "code",
   "execution_count": 26,
   "id": "399bf188",
   "metadata": {
    "tags": []
   },
   "outputs": [
    {
     "name": "stdout",
     "output_type": "stream",
     "text": [
      "+----------+-----+\n",
      "|VictimsAge|count|\n",
      "+----------+-----+\n",
      "|     Youth|  303|\n",
      "|     Adult|10595|\n",
      "|     Child| 1669|\n",
      "|   Elderly| 2745|\n",
      "+----------+-----+\n",
      "\n"
     ]
    }
   ],
   "source": [
    "# 2- Qual faixa etária esteve mais envolvida nos incidentes?\n",
    "\n",
    "df_spark.groupBy(\"VictimsAge\").count().show()"
   ]
  },
  {
   "cell_type": "code",
   "execution_count": 27,
   "id": "b5f328d2",
   "metadata": {
    "tags": []
   },
   "outputs": [
    {
     "name": "stderr",
     "output_type": "stream",
     "text": [
      "[Stage 13:==============>                                           (1 + 3) / 4]\r"
     ]
    },
    {
     "name": "stdout",
     "output_type": "stream",
     "text": [
      "+--------------------+-----------------+-------------------+\n",
      "|   IncidentEventType|CountIncidentType|   PercIncidentType|\n",
      "+--------------------+-----------------+-------------------+\n",
      "|      Slip Trip Fall|             4962| 32.405956112852664|\n",
      "|    Onboard Injuries|             3920|  25.60083594566353|\n",
      "|     Personal Injury|             2929|  19.12878787878788|\n",
      "|  Collision Incident|             2798|  18.27324973876698|\n",
      "|             Assault|              510| 3.3307210031347965|\n",
      "|Activity Incident...|               84|   0.54858934169279|\n",
      "|Vandalism Hooliga...|               55|0.35919540229885055|\n",
      "|Safety Critical F...|               48| 0.3134796238244514|\n",
      "|             Robbery|                3|0.01959247648902821|\n",
      "|                Fire|                3|0.01959247648902821|\n",
      "+--------------------+-----------------+-------------------+\n",
      "\n"
     ]
    },
    {
     "name": "stderr",
     "output_type": "stream",
     "text": [
      "                                                                                \r"
     ]
    }
   ],
   "source": [
    "# 3- Qual o percentual de incidentes por tipo de evento (Incident Event Type)?\n",
    "\n",
    "tot = df_spark.count()\n",
    "\n",
    "df_spark.groupBy(\"IncidentEventType\") \\\n",
    "  .count() \\\n",
    "  .withColumnRenamed('count', 'CountIncidentType') \\\n",
    "  .withColumn('PercIncidentType', (F.col('CountIncidentType') / tot) * 100 ) \\\n",
    "  .orderBy('PercIncidentType', ascending = False) \\\n",
    "  .show()\n"
   ]
  },
  {
   "cell_type": "code",
   "execution_count": 28,
   "id": "14bff36e",
   "metadata": {
    "tags": []
   },
   "outputs": [
    {
     "name": "stdout",
     "output_type": "stream",
     "text": [
      "+---------------+-----+\n",
      "|MonthofIncident|count|\n",
      "+---------------+-----+\n",
      "|              1| 1203|\n",
      "|              2| 1186|\n",
      "|              3| 1382|\n",
      "|              4| 1398|\n",
      "|              5| 1411|\n",
      "|              6| 1369|\n",
      "|              7| 1503|\n",
      "|              8| 1342|\n",
      "|              9| 1415|\n",
      "|             10| 1086|\n",
      "|             11| 1054|\n",
      "|             12|  963|\n",
      "+---------------+-----+\n",
      "\n"
     ]
    }
   ],
   "source": [
    "# 4- Como foi a evolução de incidentes por mês ao longo do tempo?\n",
    "\n",
    "# Extract date from datetime column in Pandas\n",
    "df_spark = df_spark.withColumn ('MonthofIncident', month (df_spark ['DateOfIncident'])) \n",
    "df_spark.groupBy(\"MonthofIncident\").count().orderBy(\"MonthofIncident\").show()\n"
   ]
  },
  {
   "cell_type": "code",
   "execution_count": 29,
   "id": "d10965eb",
   "metadata": {
    "tags": []
   },
   "outputs": [
    {
     "name": "stdout",
     "output_type": "stream",
     "text": [
      "+---------------+-----+\n",
      "|MonthofIncident|count|\n",
      "+---------------+-----+\n",
      "|              9|  130|\n",
      "|              6|  117|\n",
      "|              4|  116|\n",
      "|              1|  115|\n",
      "|              7|  115|\n",
      "|              3|  101|\n",
      "|             11|  101|\n",
      "|              8|   91|\n",
      "|              5|   90|\n",
      "|             10|   89|\n",
      "|              2|   89|\n",
      "|             12|   60|\n",
      "+---------------+-----+\n",
      "\n"
     ]
    }
   ],
   "source": [
    "# 5- Quando o incidente foi “Collision Incident” em qual mês houve o maior número de incidentes\n",
    "# envolvendo pessoas do sexo feminino?\n",
    "# Select por nome de coluna\n",
    "df_spark_select_inc = df_spark.select('IncidentEventType','VictimsSex', 'MonthofIncident')\n",
    "\n",
    "df_spark_select_inc.where((df_spark_select_inc['IncidentEventType']  == 'Collision Incident' ) & (df_spark_select_inc['VictimsSex'] == 'Female') ) \\\n",
    ".groupBy(\"MonthofIncident\").count().orderBy(\"Count\" , ascending = False ).show()\n",
    "\n"
   ]
  },
  {
   "cell_type": "code",
   "execution_count": 30,
   "id": "a41caafd",
   "metadata": {
    "tags": []
   },
   "outputs": [
    {
     "name": "stderr",
     "output_type": "stream",
     "text": [
      "[Stage 22:>                                                         (0 + 4) / 4]\r"
     ]
    },
    {
     "name": "stdout",
     "output_type": "stream",
     "text": [
      "+------------------+\n",
      "|        avg(count)|\n",
      "+------------------+\n",
      "|139.08333333333334|\n",
      "+------------------+\n",
      "\n"
     ]
    },
    {
     "name": "stderr",
     "output_type": "stream",
     "text": [
      "                                                                                \r"
     ]
    }
   ],
   "source": [
    "# 6- Qual foi a média de incidentes por mês envolvendo crianças (Child)?\n",
    "\n",
    "df_spark_select_child = df_spark.select('VictimsAge', 'MonthofIncident','MonthofIncident')\n",
    "\n",
    "df_spark_select_child.where((df_spark_select_child['VictimsAge']  == 'Child' ) ) \\\n",
    ".groupBy(\"MonthofIncident\").count().agg({'count':'mean'}).show()\n",
    "\n"
   ]
  },
  {
   "cell_type": "code",
   "execution_count": 31,
   "id": "5ee4cd6e",
   "metadata": {
    "tags": []
   },
   "outputs": [
    {
     "name": "stdout",
     "output_type": "stream",
     "text": [
      "+-----------------------+-----+\n",
      "|InjuryResultDescription|count|\n",
      "+-----------------------+-----+\n",
      "|                  Fatal|   40|\n",
      "|   Taken to Hospital...| 2313|\n",
      "|   Injuries treated ...|10868|\n",
      "|   Reported Minor In...| 2091|\n",
      "+-----------------------+-----+\n",
      "\n"
     ]
    }
   ],
   "source": [
    "# 7- Considerando a descrição de incidente como “Injuries treated on scene” (coluna Injury Result Description),\n",
    "# qual o total de incidentes de pessoas do sexo masculino e sexo feminino?\n",
    "\n",
    "df_spark_select_InjScene = df_spark.select('InjuryResultDescription', 'VictimsSex')\n",
    "\n",
    "df_spark_select_InjScene.where((df_spark_select_InjScene['VictimsSex']  == 'Male' ) | (df_spark_select_InjScene['VictimsSex'] == 'Female')) \\\n",
    ".groupBy(\"InjuryResultDescription\").count().show()\n",
    "\n",
    "\n"
   ]
  },
  {
   "cell_type": "code",
   "execution_count": 32,
   "id": "6ff6bc7d",
   "metadata": {
    "tags": []
   },
   "outputs": [
    {
     "name": "stdout",
     "output_type": "stream",
     "text": [
      "+---------------+-----+\n",
      "|MonthofIncident|count|\n",
      "+---------------+-----+\n",
      "|              1|  489|\n",
      "|              6|  542|\n",
      "|              3|  604|\n",
      "|              5|  518|\n",
      "|              9|  569|\n",
      "|              4|  588|\n",
      "|              8|  544|\n",
      "|              7|  620|\n",
      "|             10|  528|\n",
      "|             11|  517|\n",
      "|              2|  509|\n",
      "|             12|  487|\n",
      "+---------------+-----+\n",
      "\n"
     ]
    }
   ],
   "source": [
    "# 8- No ano de 2017 em qual mês houve mais incidentes com idosos (Elderly)?\n",
    "\n",
    "df_spark_select_Elderly = df_spark.select('Year', 'MonthofIncident', 'VictimsAge')\n",
    "\n",
    "df_spark_select_Elderly.where((df_spark_select_Elderly['Year']  == '2017' ) | (df_spark_select_Elderly['VictimsAge'] == 'Elderly')) \\\n",
    ".groupBy(\"MonthofIncident\").count().show()\n",
    "\n"
   ]
  },
  {
   "cell_type": "code",
   "execution_count": 33,
   "id": "2b6dbffc",
   "metadata": {
    "tags": []
   },
   "outputs": [
    {
     "data": {
      "text/html": [
       "<div>\n",
       "<style scoped>\n",
       "    .dataframe tbody tr th:only-of-type {\n",
       "        vertical-align: middle;\n",
       "    }\n",
       "\n",
       "    .dataframe tbody tr th {\n",
       "        vertical-align: top;\n",
       "    }\n",
       "\n",
       "    .dataframe thead th {\n",
       "        text-align: right;\n",
       "    }\n",
       "</style>\n",
       "<table border=\"1\" class=\"dataframe\">\n",
       "  <thead>\n",
       "    <tr style=\"text-align: right;\">\n",
       "      <th></th>\n",
       "      <th>Year</th>\n",
       "      <th>count</th>\n",
       "    </tr>\n",
       "  </thead>\n",
       "  <tbody>\n",
       "    <tr>\n",
       "      <th>0</th>\n",
       "      <td>2015</td>\n",
       "      <td>3405</td>\n",
       "    </tr>\n",
       "    <tr>\n",
       "      <th>1</th>\n",
       "      <td>2016</td>\n",
       "      <td>4065</td>\n",
       "    </tr>\n",
       "    <tr>\n",
       "      <th>2</th>\n",
       "      <td>2017</td>\n",
       "      <td>4602</td>\n",
       "    </tr>\n",
       "    <tr>\n",
       "      <th>3</th>\n",
       "      <td>2018</td>\n",
       "      <td>3240</td>\n",
       "    </tr>\n",
       "  </tbody>\n",
       "</table>\n",
       "</div>"
      ],
      "text/plain": [
       "   Year  count\n",
       "0  2015   3405\n",
       "1  2016   4065\n",
       "2  2017   4602\n",
       "3  2018   3240"
      ]
     },
     "execution_count": 33,
     "metadata": {},
     "output_type": "execute_result"
    }
   ],
   "source": [
    "# 9- Considerando o Operador qual a distribuição de incidentes ao longo do tempo?\n",
    "# Convert the Spark DataFrame back to a pandas DataFrame using Arrow\n",
    "df_spark_oper = df_spark.select('Operator','Year').groupBy(\"Year\").count().toPandas()\n",
    "\n",
    "#plt.bar(df_spark_oper)\n",
    "\n",
    "df_spark_oper\n"
   ]
  },
  {
   "cell_type": "code",
   "execution_count": 34,
   "id": "c63b8767",
   "metadata": {
    "tags": []
   },
   "outputs": [
    {
     "name": "stdout",
     "output_type": "stream",
     "text": [
      "+--------------------+-----+\n",
      "|      VictimCategory|count|\n",
      "+--------------------+-----+\n",
      "|          pedestrian| 1035|\n",
      "|           conductor|   10|\n",
      "|        motorcyclist|   71|\n",
      "|             cyclist|  198|\n",
      "|    contractor staff|    6|\n",
      "|               other|    6|\n",
      "|           passenger|12007|\n",
      "|3rd party driver ...|  384|\n",
      "|          bus driver| 1475|\n",
      "|    member of public|   74|\n",
      "|   operational staff|   43|\n",
      "|           tfl staff|    3|\n",
      "+--------------------+-----+\n",
      "\n",
      "+------------------+-----+\n",
      "| IncidentEventType|count|\n",
      "+------------------+-----+\n",
      "|Collision Incident|  183|\n",
      "|   Personal Injury|    7|\n",
      "|    Slip Trip Fall|    5|\n",
      "|  Onboard Injuries|    3|\n",
      "+------------------+-----+\n",
      "\n"
     ]
    }
   ],
   "source": [
    "# 10- Qual o tipo de incidente mais comum com ciclistas?\n",
    "\n",
    "df_spark.groupBy(\"VictimCategory\").count().show()\n",
    "\n",
    "\n",
    "df_spark_select_Cyclist = df_spark.select('Year', 'VictimCategory', 'IncidentEventType')\n",
    "\n",
    "df_spark_select_Cyclist.where((df_spark_select_Cyclist['VictimCategory']  == 'cyclist' ) ) \\\n",
    ".groupBy(\"IncidentEventType\").count().orderBy(\"Count\" , ascending = False ).show()\n"
   ]
  },
  {
   "cell_type": "code",
   "execution_count": null,
   "id": "a2f23c92",
   "metadata": {},
   "outputs": [],
   "source": []
  },
  {
   "cell_type": "code",
   "execution_count": 35,
   "id": "f4593670-e514-481d-b8b8-90beb53e2e3a",
   "metadata": {
    "tags": []
   },
   "outputs": [],
   "source": [
    "# Stop SparkSession\n",
    "spark.stop()"
   ]
  },
  {
   "cell_type": "code",
   "execution_count": null,
   "id": "936067cb-dd03-4c51-a5c5-9e9f05402179",
   "metadata": {},
   "outputs": [],
   "source": []
  },
  {
   "cell_type": "code",
   "execution_count": null,
   "id": "40efaaad-1ef9-494f-bdd7-dc3e450172a2",
   "metadata": {},
   "outputs": [],
   "source": []
  },
  {
   "cell_type": "code",
   "execution_count": null,
   "id": "6dd21878-e78a-4d50-b7d7-fbd9376fd027",
   "metadata": {},
   "outputs": [],
   "source": []
  },
  {
   "cell_type": "code",
   "execution_count": null,
   "id": "2cb0b13a-c4e5-4311-9f95-ba6fa2377cb8",
   "metadata": {},
   "outputs": [],
   "source": []
  },
  {
   "cell_type": "code",
   "execution_count": null,
   "id": "4826be33-11d1-4e4c-a9a7-6e4553bce12e",
   "metadata": {},
   "outputs": [],
   "source": []
  },
  {
   "cell_type": "code",
   "execution_count": null,
   "id": "0cdbdce6-c01f-4227-8b5a-a2284977d154",
   "metadata": {},
   "outputs": [],
   "source": []
  }
 ],
 "metadata": {
  "kernelspec": {
   "display_name": "Python 3 (ipykernel)",
   "language": "python",
   "name": "python3"
  },
  "language_info": {
   "codemirror_mode": {
    "name": "ipython",
    "version": 3
   },
   "file_extension": ".py",
   "mimetype": "text/x-python",
   "name": "python",
   "nbconvert_exporter": "python",
   "pygments_lexer": "ipython3",
   "version": "3.11.5"
  }
 },
 "nbformat": 4,
 "nbformat_minor": 5
}
