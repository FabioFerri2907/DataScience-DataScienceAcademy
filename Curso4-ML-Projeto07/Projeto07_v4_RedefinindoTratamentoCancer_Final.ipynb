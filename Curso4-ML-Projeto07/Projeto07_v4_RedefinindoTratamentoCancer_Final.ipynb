{
 "cells": [
  {
   "cell_type": "markdown",
   "id": "8abd8d93-c3f2-4512-b73e-29ff12b5449f",
   "metadata": {},
   "source": [
    "# <font color='blue'>Data Science Academy - Machine Learning</font>\n",
    "\n",
    "# <font color='blue'>Projeto com Feedback 7 </font>\n",
    "\n",
    "# <font color='blue'> Medicina Personalizada - Redefinindo o Tratamento de Câncer V4 </font>\n",
    "\n",
    "# <font color='blue'>02/07/2024</font>"
   ]
  },
  {
   "cell_type": "code",
   "execution_count": 1,
   "id": "b1dbe732-99e4-48f5-ab5a-2838685f2cb6",
   "metadata": {},
   "outputs": [],
   "source": [
    "# import required libraries for dataframe and visualization\n",
    "\n",
    "import numpy as np\n",
    "import pandas as pd\n",
    "import matplotlib.pyplot as plt\n",
    "import seaborn as sns\n",
    "import datetime as dt\n",
    "import time\n",
    "from sklearn.preprocessing import LabelEncoder\n",
    "from sklearn.preprocessing import OneHotEncoder  \n",
    "labelEncoder = LabelEncoder()\n",
    "from sklearn.preprocessing import StandardScaler\n",
    "from sklearn.metrics import classification_report\n",
    "from sklearn.metrics import r2_score, mean_squared_error, mean_absolute_error\n",
    "from sklearn import tree\n",
    "from sklearn.model_selection import GridSearchCV\n",
    "from sklearn.metrics import precision_score, recall_score, f1_score, accuracy_score, roc_auc_score\n",
    "from sklearn import svm\n",
    "from sklearn.neighbors import KNeighborsClassifier\n",
    "from sklearn.ensemble import RandomForestClassifier\n",
    "from sklearn.ensemble import GradientBoostingClassifier\n",
    "\n",
    "from sklearn.feature_extraction.text import CountVectorizer, TfidfVectorizer\n",
    "from gensim.models import Word2Vec\n",
    "from scipy.sparse import hstack\n",
    "from sklearn.decomposition import PCA\n",
    "\n"
   ]
  },
  {
   "cell_type": "code",
   "execution_count": 2,
   "id": "9d8aff53-7d45-4975-8d1c-715ba19cde5b",
   "metadata": {},
   "outputs": [],
   "source": [
    "# Parâmetros de configuração dos gráficos\n",
    "from matplotlib import rcParams\n",
    "\n",
    "rcParams['figure.figsize'] = 12, 4\n",
    "rcParams['lines.linewidth'] = 3\n",
    "rcParams['xtick.labelsize'] = 'x-large'\n",
    "rcParams['ytick.labelsize'] = 'x-large'\n",
    "\n",
    "import warnings\n",
    "warnings.filterwarnings(\"ignore\")"
   ]
  },
  {
   "cell_type": "markdown",
   "id": "6be5022d-aedf-43a8-bc4d-27736379b827",
   "metadata": {},
   "source": [
    "## Entendimento do Problema/Negócio:"
   ]
  },
  {
   "cell_type": "markdown",
   "id": "4676b193-6bd4-41d0-bf34-d5fb8596051a",
   "metadata": {},
   "source": [
    "Para este projeto, o MSKCC (Memorial Sloan Kettering Cancer Center) está\n",
    "disponibilizando uma base de conhecimento anotada por especialistas, onde\n",
    "pesquisadores e oncologistas de nível mundial anotaram manualmente milhares\n",
    "de mutações.\n",
    "\n",
    "##### Neste projeto, você vai desenvolver um algoritmo de Aprendizado de\n",
    "##### Máquina que, usando essa base de conhecimento como uma linha de base,\n",
    "##### classifica automaticamente as variações genéticas.\n",
    "##### target Classificar a Varável Target = Classe"
   ]
  },
  {
   "cell_type": "markdown",
   "id": "b51b92fb-11b0-43bb-baf2-ee2132c08025",
   "metadata": {},
   "source": [
    "https://www.kaggle.com/c/msk-redefining-cancer-treatment/data"
   ]
  },
  {
   "cell_type": "markdown",
   "id": "7b27cfde-c842-4828-adc1-68e96dcd22fd",
   "metadata": {},
   "source": [
    "####  CÂNCER: UMA DOENÇA GENÉTICA"
   ]
  },
  {
   "cell_type": "markdown",
   "id": "859477d0-9f95-43b9-804d-479c3e0e1898",
   "metadata": {},
   "source": [
    "O câncer é uma doença genética\n",
    "\n",
    "Essa afirmação não deve ser confundida com a afirmação de que o câncer é uma doença hereditária, apenas deve ser entendida como todo câncer se desenvolve devido à alteração(ões) genética(s) e apenas pequena parte desses são hereditários. O câncer se forma quando o DNA de uma célula normal é danificado ou mutado. Essas mutações podem ocorrer em células germinativas, e dessa forma, podem ser transmitidas para a próxima geração (câncer hereditário); ou podem ocorrer em células somáticas e ficarem restritas apenas ao indivíduo (câncer esporádico). Mas, para saber melhor sobre o câncer, é fundamental relembrar alguns conceitos básicos de biologia molecular e genética."
   ]
  },
  {
   "cell_type": "markdown",
   "id": "20d25b69-599e-49ca-914d-76777788b168",
   "metadata": {},
   "source": [
    "Uma mutação pode ser resultante de erros durante algum processo biológico como a replicação do DNA ou de outros tipos de danos ao DNA. A fumaça do cigarro, por exemplo, contém produtos químicos que danificam o DNA. A radiação solar contém raios ultravioleta (ou UV) que também danificam essa sequência. Entretanto, existem diferentes tipos de mutações no DNA. Algumas mutações são apenas de um único nucleotídeo, chamadas mutações de ponto (do inglês point mutations), ou de pequenas sequências de nucleotídeos que incluem deleções, duplicações ou inserções de novos nucleotídeos.  Várias desses tipos de mutações são estudadas no gene EGFR, especialmente em câncer de pulmão de não pequenas células (CPNPC). As mutações de ponto L858R, L861Q e G719A/C/S e deleções no éxon 19 do gene estão relacionadas a boas taxas de resposta aos inibidores tirosina quinase (TKI). Por outro lado, a alteração de ponto T790M e inserção no éxon 20 condizem com resistência aos TKI de primeira e segunda geração."
   ]
  },
  {
   "cell_type": "markdown",
   "id": "9d2d6d76-0036-4d50-9a39-1ec9f451973d",
   "metadata": {},
   "source": [
    "\n",
    "## Obtenção de Dados"
   ]
  },
  {
   "cell_type": "markdown",
   "id": "84b30246-b568-4cc3-991b-3b54ce9e16ad",
   "metadata": {},
   "source": [
    "Identificar e obter os conjuntos de dados relevantes para o problema em questão.\n",
    "Realizar a coleta de dados de várias fontes, como bancos de dados, APIs, arquivos locais, etc."
   ]
  },
  {
   "cell_type": "markdown",
   "id": "5659899c-3c7b-4c09-8cc3-5c97ebf0b655",
   "metadata": {},
   "source": [
    "#### Trainning Variants File\n",
    "\n",
    "ID : the id of the row used to link the mutation to the clinical evidence\n",
    "\n",
    "Gene : the gene where this genetic mutation is located\n",
    "\n",
    "Variation : the aminoacid change for this mutations\n",
    "\n",
    "Class : 1-9 the class this genetic mutation has been classified on\n",
    "\n",
    "training_variants (ID , Gene, Variations, Class)\n",
    "training_text (ID, Text)"
   ]
  },
  {
   "cell_type": "markdown",
   "id": "c80b749b-c664-4e97-880c-7f6bd0270538",
   "metadata": {},
   "source": [
    "#### Trainning Texts File"
   ]
  },
  {
   "cell_type": "code",
   "execution_count": 3,
   "id": "882d25f9-3b4b-4426-9b8e-aa4ed040082b",
   "metadata": {},
   "outputs": [],
   "source": [
    "# Reading the data on which analysis needs to be done\n",
    "\n",
    "df_training_variants = pd.read_csv(\"data_files/training_variants\", sep=\",\", encoding=\"UTF-8\", header=0)\n",
    "\n",
    "df_test_variants = pd.read_csv(\"data_files/test_variants\", sep=\",\", encoding=\"UTF-8\", header=0)\n",
    "\n",
    "\n",
    "df_training_text =pd.read_csv(\"data_files/training_text\",\n",
    "                       sep=\"\\|\\|\",engine=\"python\",names=[\"ID\",\"TEXT\"],skiprows=1)\n",
    "\n",
    "df_test_text =pd.read_csv(\"data_files/test_text\",\n",
    "                       sep=\"\\|\\|\",engine=\"python\",names=[\"ID\",\"TEXT\"],skiprows=1)\n",
    "\n"
   ]
  },
  {
   "cell_type": "code",
   "execution_count": 4,
   "id": "38424b50-6474-4720-90e9-4de340a7b397",
   "metadata": {},
   "outputs": [
    {
     "data": {
      "text/html": [
       "<div>\n",
       "<style scoped>\n",
       "    .dataframe tbody tr th:only-of-type {\n",
       "        vertical-align: middle;\n",
       "    }\n",
       "\n",
       "    .dataframe tbody tr th {\n",
       "        vertical-align: top;\n",
       "    }\n",
       "\n",
       "    .dataframe thead th {\n",
       "        text-align: right;\n",
       "    }\n",
       "</style>\n",
       "<table border=\"1\" class=\"dataframe\">\n",
       "  <thead>\n",
       "    <tr style=\"text-align: right;\">\n",
       "      <th></th>\n",
       "      <th>ID</th>\n",
       "      <th>Gene</th>\n",
       "      <th>Variation</th>\n",
       "      <th>Class</th>\n",
       "    </tr>\n",
       "  </thead>\n",
       "  <tbody>\n",
       "    <tr>\n",
       "      <th>0</th>\n",
       "      <td>0</td>\n",
       "      <td>FAM58A</td>\n",
       "      <td>Truncating Mutations</td>\n",
       "      <td>1</td>\n",
       "    </tr>\n",
       "    <tr>\n",
       "      <th>1</th>\n",
       "      <td>1</td>\n",
       "      <td>CBL</td>\n",
       "      <td>W802*</td>\n",
       "      <td>2</td>\n",
       "    </tr>\n",
       "    <tr>\n",
       "      <th>2</th>\n",
       "      <td>2</td>\n",
       "      <td>CBL</td>\n",
       "      <td>Q249E</td>\n",
       "      <td>2</td>\n",
       "    </tr>\n",
       "    <tr>\n",
       "      <th>3</th>\n",
       "      <td>3</td>\n",
       "      <td>CBL</td>\n",
       "      <td>N454D</td>\n",
       "      <td>3</td>\n",
       "    </tr>\n",
       "    <tr>\n",
       "      <th>4</th>\n",
       "      <td>4</td>\n",
       "      <td>CBL</td>\n",
       "      <td>L399V</td>\n",
       "      <td>4</td>\n",
       "    </tr>\n",
       "  </tbody>\n",
       "</table>\n",
       "</div>"
      ],
      "text/plain": [
       "   ID    Gene             Variation  Class\n",
       "0   0  FAM58A  Truncating Mutations      1\n",
       "1   1     CBL                 W802*      2\n",
       "2   2     CBL                 Q249E      2\n",
       "3   3     CBL                 N454D      3\n",
       "4   4     CBL                 L399V      4"
      ]
     },
     "execution_count": 4,
     "metadata": {},
     "output_type": "execute_result"
    }
   ],
   "source": [
    "df_training_variants.head(5)"
   ]
  },
  {
   "cell_type": "code",
   "execution_count": 5,
   "id": "061d8d3b-f368-4b1c-811e-0a85a3bf116c",
   "metadata": {},
   "outputs": [
    {
     "data": {
      "text/html": [
       "<div>\n",
       "<style scoped>\n",
       "    .dataframe tbody tr th:only-of-type {\n",
       "        vertical-align: middle;\n",
       "    }\n",
       "\n",
       "    .dataframe tbody tr th {\n",
       "        vertical-align: top;\n",
       "    }\n",
       "\n",
       "    .dataframe thead th {\n",
       "        text-align: right;\n",
       "    }\n",
       "</style>\n",
       "<table border=\"1\" class=\"dataframe\">\n",
       "  <thead>\n",
       "    <tr style=\"text-align: right;\">\n",
       "      <th></th>\n",
       "      <th>ID</th>\n",
       "      <th>TEXT</th>\n",
       "    </tr>\n",
       "  </thead>\n",
       "  <tbody>\n",
       "    <tr>\n",
       "      <th>0</th>\n",
       "      <td>0</td>\n",
       "      <td>Cyclin-dependent kinases (CDKs) regulate a var...</td>\n",
       "    </tr>\n",
       "    <tr>\n",
       "      <th>1</th>\n",
       "      <td>1</td>\n",
       "      <td>Abstract Background  Non-small cell lung canc...</td>\n",
       "    </tr>\n",
       "    <tr>\n",
       "      <th>2</th>\n",
       "      <td>2</td>\n",
       "      <td>Abstract Background  Non-small cell lung canc...</td>\n",
       "    </tr>\n",
       "    <tr>\n",
       "      <th>3</th>\n",
       "      <td>3</td>\n",
       "      <td>Recent evidence has demonstrated that acquired...</td>\n",
       "    </tr>\n",
       "    <tr>\n",
       "      <th>4</th>\n",
       "      <td>4</td>\n",
       "      <td>Oncogenic mutations in the monomeric Casitas B...</td>\n",
       "    </tr>\n",
       "  </tbody>\n",
       "</table>\n",
       "</div>"
      ],
      "text/plain": [
       "   ID                                               TEXT\n",
       "0   0  Cyclin-dependent kinases (CDKs) regulate a var...\n",
       "1   1   Abstract Background  Non-small cell lung canc...\n",
       "2   2   Abstract Background  Non-small cell lung canc...\n",
       "3   3  Recent evidence has demonstrated that acquired...\n",
       "4   4  Oncogenic mutations in the monomeric Casitas B..."
      ]
     },
     "execution_count": 5,
     "metadata": {},
     "output_type": "execute_result"
    }
   ],
   "source": [
    "df_training_text.head(5)"
   ]
  },
  {
   "cell_type": "code",
   "execution_count": 6,
   "id": "1e757f38-bf8d-46fe-9b04-ab5d043ff751",
   "metadata": {},
   "outputs": [
    {
     "data": {
      "text/plain": [
       "(3321, 2)"
      ]
     },
     "execution_count": 6,
     "metadata": {},
     "output_type": "execute_result"
    }
   ],
   "source": [
    "df_training_text.shape"
   ]
  },
  {
   "cell_type": "code",
   "execution_count": 7,
   "id": "e205ee3c-0720-492b-8a58-574b2dafa95b",
   "metadata": {},
   "outputs": [
    {
     "data": {
      "text/plain": [
       "(5668, 2)"
      ]
     },
     "execution_count": 7,
     "metadata": {},
     "output_type": "execute_result"
    }
   ],
   "source": [
    "df_test_text.shape"
   ]
  },
  {
   "cell_type": "markdown",
   "id": "081a23da-9dd9-4f9e-a11e-17a25fed6226",
   "metadata": {},
   "source": [
    "## Limpeza e Pré-processamento de Dados:"
   ]
  },
  {
   "cell_type": "markdown",
   "id": "8949c4c8-ac53-4410-ab2d-c4c5ada71b42",
   "metadata": {},
   "source": [
    "Avaliar a qualidade dos dados e lidar com problemas como dados ausentes, valores discrepantes (outliers) e erros.\n",
    "Normalizar ou padronizar os dados, se necessário."
   ]
  },
  {
   "cell_type": "code",
   "execution_count": 8,
   "id": "6e38a318-fc5e-4574-ab70-ab3b5c53868c",
   "metadata": {},
   "outputs": [
    {
     "data": {
      "text/plain": [
       "False"
      ]
     },
     "execution_count": 8,
     "metadata": {},
     "output_type": "execute_result"
    }
   ],
   "source": [
    "# Checando se há valores missing\n",
    "df_training_variants.isnull().values.any()"
   ]
  },
  {
   "cell_type": "code",
   "execution_count": 9,
   "id": "534c9e18-c723-4da0-9997-c0f79f2b24f4",
   "metadata": {},
   "outputs": [
    {
     "data": {
      "text/plain": [
       "True"
      ]
     },
     "execution_count": 9,
     "metadata": {},
     "output_type": "execute_result"
    }
   ],
   "source": [
    "# Checando se há valores missing\n",
    "df_training_text.isnull().values.any()"
   ]
  },
  {
   "cell_type": "code",
   "execution_count": 10,
   "id": "bec699e3-6e60-4ffd-9b77-16b39a8636f2",
   "metadata": {},
   "outputs": [
    {
     "name": "stdout",
     "output_type": "stream",
     "text": [
      "ID      0\n",
      "TEXT    5\n",
      "dtype: int64\n"
     ]
    }
   ],
   "source": [
    "print(df_training_text.isna().sum())"
   ]
  },
  {
   "cell_type": "code",
   "execution_count": 11,
   "id": "5e50fbd7-d604-4bf9-878b-b5345fae3192",
   "metadata": {},
   "outputs": [
    {
     "data": {
      "text/html": [
       "<div>\n",
       "<style scoped>\n",
       "    .dataframe tbody tr th:only-of-type {\n",
       "        vertical-align: middle;\n",
       "    }\n",
       "\n",
       "    .dataframe tbody tr th {\n",
       "        vertical-align: top;\n",
       "    }\n",
       "\n",
       "    .dataframe thead th {\n",
       "        text-align: right;\n",
       "    }\n",
       "</style>\n",
       "<table border=\"1\" class=\"dataframe\">\n",
       "  <thead>\n",
       "    <tr style=\"text-align: right;\">\n",
       "      <th></th>\n",
       "      <th>ID</th>\n",
       "      <th>TEXT</th>\n",
       "    </tr>\n",
       "  </thead>\n",
       "  <tbody>\n",
       "    <tr>\n",
       "      <th>0</th>\n",
       "      <td>0</td>\n",
       "      <td>2. This mutation resulted in a myeloproliferat...</td>\n",
       "    </tr>\n",
       "    <tr>\n",
       "      <th>1</th>\n",
       "      <td>1</td>\n",
       "      <td>Abstract The Large Tumor Suppressor 1 (LATS1)...</td>\n",
       "    </tr>\n",
       "    <tr>\n",
       "      <th>2</th>\n",
       "      <td>2</td>\n",
       "      <td>Vascular endothelial growth factor receptor (V...</td>\n",
       "    </tr>\n",
       "    <tr>\n",
       "      <th>3</th>\n",
       "      <td>3</td>\n",
       "      <td>Inflammatory myofibroblastic tumor (IMT) is a ...</td>\n",
       "    </tr>\n",
       "    <tr>\n",
       "      <th>4</th>\n",
       "      <td>4</td>\n",
       "      <td>Abstract Retinoblastoma is a pediatric retina...</td>\n",
       "    </tr>\n",
       "    <tr>\n",
       "      <th>...</th>\n",
       "      <td>...</td>\n",
       "      <td>...</td>\n",
       "    </tr>\n",
       "    <tr>\n",
       "      <th>5663</th>\n",
       "      <td>5663</td>\n",
       "      <td>The realization in the late 1970s that RAS har...</td>\n",
       "    </tr>\n",
       "    <tr>\n",
       "      <th>5664</th>\n",
       "      <td>5664</td>\n",
       "      <td>Hemizygous deletions are common molecular abno...</td>\n",
       "    </tr>\n",
       "    <tr>\n",
       "      <th>5665</th>\n",
       "      <td>5665</td>\n",
       "      <td>All most R267W of has with to SMARTpool invest...</td>\n",
       "    </tr>\n",
       "    <tr>\n",
       "      <th>5666</th>\n",
       "      <td>5666</td>\n",
       "      <td>Abstract Blood samples from 125 unrelated fami...</td>\n",
       "    </tr>\n",
       "    <tr>\n",
       "      <th>5667</th>\n",
       "      <td>5667</td>\n",
       "      <td>Loss of DNA mismatch repair (MMR) in humans, m...</td>\n",
       "    </tr>\n",
       "  </tbody>\n",
       "</table>\n",
       "<p>5667 rows × 2 columns</p>\n",
       "</div>"
      ],
      "text/plain": [
       "        ID                                               TEXT\n",
       "0        0  2. This mutation resulted in a myeloproliferat...\n",
       "1        1   Abstract The Large Tumor Suppressor 1 (LATS1)...\n",
       "2        2  Vascular endothelial growth factor receptor (V...\n",
       "3        3  Inflammatory myofibroblastic tumor (IMT) is a ...\n",
       "4        4   Abstract Retinoblastoma is a pediatric retina...\n",
       "...    ...                                                ...\n",
       "5663  5663  The realization in the late 1970s that RAS har...\n",
       "5664  5664  Hemizygous deletions are common molecular abno...\n",
       "5665  5665  All most R267W of has with to SMARTpool invest...\n",
       "5666  5666  Abstract Blood samples from 125 unrelated fami...\n",
       "5667  5667  Loss of DNA mismatch repair (MMR) in humans, m...\n",
       "\n",
       "[5667 rows x 2 columns]"
      ]
     },
     "execution_count": 11,
     "metadata": {},
     "output_type": "execute_result"
    }
   ],
   "source": [
    "df_training_text.dropna()\n",
    "df_test_text.dropna()"
   ]
  },
  {
   "cell_type": "code",
   "execution_count": 12,
   "id": "5855659e-2a8a-48cd-862f-6fcacbd59b6e",
   "metadata": {},
   "outputs": [
    {
     "data": {
      "text/html": [
       "<div>\n",
       "<style scoped>\n",
       "    .dataframe tbody tr th:only-of-type {\n",
       "        vertical-align: middle;\n",
       "    }\n",
       "\n",
       "    .dataframe tbody tr th {\n",
       "        vertical-align: top;\n",
       "    }\n",
       "\n",
       "    .dataframe thead th {\n",
       "        text-align: right;\n",
       "    }\n",
       "</style>\n",
       "<table border=\"1\" class=\"dataframe\">\n",
       "  <thead>\n",
       "    <tr style=\"text-align: right;\">\n",
       "      <th></th>\n",
       "      <th>ID</th>\n",
       "      <th>Gene</th>\n",
       "      <th>Variation</th>\n",
       "      <th>Class</th>\n",
       "      <th>TEXT</th>\n",
       "    </tr>\n",
       "  </thead>\n",
       "  <tbody>\n",
       "    <tr>\n",
       "      <th>0</th>\n",
       "      <td>0</td>\n",
       "      <td>FAM58A</td>\n",
       "      <td>Truncating Mutations</td>\n",
       "      <td>1</td>\n",
       "      <td>Cyclin-dependent kinases (CDKs) regulate a var...</td>\n",
       "    </tr>\n",
       "    <tr>\n",
       "      <th>1</th>\n",
       "      <td>1</td>\n",
       "      <td>CBL</td>\n",
       "      <td>W802*</td>\n",
       "      <td>2</td>\n",
       "      <td>Abstract Background  Non-small cell lung canc...</td>\n",
       "    </tr>\n",
       "    <tr>\n",
       "      <th>2</th>\n",
       "      <td>2</td>\n",
       "      <td>CBL</td>\n",
       "      <td>Q249E</td>\n",
       "      <td>2</td>\n",
       "      <td>Abstract Background  Non-small cell lung canc...</td>\n",
       "    </tr>\n",
       "    <tr>\n",
       "      <th>3</th>\n",
       "      <td>3</td>\n",
       "      <td>CBL</td>\n",
       "      <td>N454D</td>\n",
       "      <td>3</td>\n",
       "      <td>Recent evidence has demonstrated that acquired...</td>\n",
       "    </tr>\n",
       "    <tr>\n",
       "      <th>4</th>\n",
       "      <td>4</td>\n",
       "      <td>CBL</td>\n",
       "      <td>L399V</td>\n",
       "      <td>4</td>\n",
       "      <td>Oncogenic mutations in the monomeric Casitas B...</td>\n",
       "    </tr>\n",
       "  </tbody>\n",
       "</table>\n",
       "</div>"
      ],
      "text/plain": [
       "   ID    Gene             Variation  Class  \\\n",
       "0   0  FAM58A  Truncating Mutations      1   \n",
       "1   1     CBL                 W802*      2   \n",
       "2   2     CBL                 Q249E      2   \n",
       "3   3     CBL                 N454D      3   \n",
       "4   4     CBL                 L399V      4   \n",
       "\n",
       "                                                TEXT  \n",
       "0  Cyclin-dependent kinases (CDKs) regulate a var...  \n",
       "1   Abstract Background  Non-small cell lung canc...  \n",
       "2   Abstract Background  Non-small cell lung canc...  \n",
       "3  Recent evidence has demonstrated that acquired...  \n",
       "4  Oncogenic mutations in the monomeric Casitas B...  "
      ]
     },
     "execution_count": 12,
     "metadata": {},
     "output_type": "execute_result"
    }
   ],
   "source": [
    "df_training = pd.merge(df_training_variants, df_training_text,on='ID', how='left')\n",
    "df_training.head()"
   ]
  },
  {
   "cell_type": "code",
   "execution_count": 13,
   "id": "d7ad9fbd-168c-4ef9-9b8a-ecd5cf339d6f",
   "metadata": {},
   "outputs": [
    {
     "data": {
      "text/html": [
       "<div>\n",
       "<style scoped>\n",
       "    .dataframe tbody tr th:only-of-type {\n",
       "        vertical-align: middle;\n",
       "    }\n",
       "\n",
       "    .dataframe tbody tr th {\n",
       "        vertical-align: top;\n",
       "    }\n",
       "\n",
       "    .dataframe thead th {\n",
       "        text-align: right;\n",
       "    }\n",
       "</style>\n",
       "<table border=\"1\" class=\"dataframe\">\n",
       "  <thead>\n",
       "    <tr style=\"text-align: right;\">\n",
       "      <th></th>\n",
       "      <th>ID</th>\n",
       "      <th>Gene</th>\n",
       "      <th>Variation</th>\n",
       "      <th>TEXT</th>\n",
       "    </tr>\n",
       "  </thead>\n",
       "  <tbody>\n",
       "    <tr>\n",
       "      <th>0</th>\n",
       "      <td>0</td>\n",
       "      <td>ACSL4</td>\n",
       "      <td>R570S</td>\n",
       "      <td>2. This mutation resulted in a myeloproliferat...</td>\n",
       "    </tr>\n",
       "    <tr>\n",
       "      <th>1</th>\n",
       "      <td>1</td>\n",
       "      <td>NAGLU</td>\n",
       "      <td>P521L</td>\n",
       "      <td>Abstract The Large Tumor Suppressor 1 (LATS1)...</td>\n",
       "    </tr>\n",
       "    <tr>\n",
       "      <th>2</th>\n",
       "      <td>2</td>\n",
       "      <td>PAH</td>\n",
       "      <td>L333F</td>\n",
       "      <td>Vascular endothelial growth factor receptor (V...</td>\n",
       "    </tr>\n",
       "    <tr>\n",
       "      <th>3</th>\n",
       "      <td>3</td>\n",
       "      <td>ING1</td>\n",
       "      <td>A148D</td>\n",
       "      <td>Inflammatory myofibroblastic tumor (IMT) is a ...</td>\n",
       "    </tr>\n",
       "    <tr>\n",
       "      <th>4</th>\n",
       "      <td>4</td>\n",
       "      <td>TMEM216</td>\n",
       "      <td>G77A</td>\n",
       "      <td>Abstract Retinoblastoma is a pediatric retina...</td>\n",
       "    </tr>\n",
       "  </tbody>\n",
       "</table>\n",
       "</div>"
      ],
      "text/plain": [
       "   ID     Gene Variation                                               TEXT\n",
       "0   0    ACSL4     R570S  2. This mutation resulted in a myeloproliferat...\n",
       "1   1    NAGLU     P521L   Abstract The Large Tumor Suppressor 1 (LATS1)...\n",
       "2   2      PAH     L333F  Vascular endothelial growth factor receptor (V...\n",
       "3   3     ING1     A148D  Inflammatory myofibroblastic tumor (IMT) is a ...\n",
       "4   4  TMEM216      G77A   Abstract Retinoblastoma is a pediatric retina..."
      ]
     },
     "execution_count": 13,
     "metadata": {},
     "output_type": "execute_result"
    }
   ],
   "source": [
    "df_test = pd.merge(df_test_variants, df_test_text,on='ID', how='left')\n",
    "df_test.head()"
   ]
  },
  {
   "cell_type": "code",
   "execution_count": 14,
   "id": "8a2416c8-0454-49c6-bf8b-a6e36c0a2d0d",
   "metadata": {},
   "outputs": [
    {
     "data": {
      "text/html": [
       "<div>\n",
       "<style scoped>\n",
       "    .dataframe tbody tr th:only-of-type {\n",
       "        vertical-align: middle;\n",
       "    }\n",
       "\n",
       "    .dataframe tbody tr th {\n",
       "        vertical-align: top;\n",
       "    }\n",
       "\n",
       "    .dataframe thead th {\n",
       "        text-align: right;\n",
       "    }\n",
       "</style>\n",
       "<table border=\"1\" class=\"dataframe\">\n",
       "  <thead>\n",
       "    <tr style=\"text-align: right;\">\n",
       "      <th></th>\n",
       "      <th>ID</th>\n",
       "      <th>Gene</th>\n",
       "      <th>Variation</th>\n",
       "      <th>Class</th>\n",
       "      <th>TEXT</th>\n",
       "    </tr>\n",
       "  </thead>\n",
       "  <tbody>\n",
       "    <tr>\n",
       "      <th>0</th>\n",
       "      <td>0</td>\n",
       "      <td>FAM58A</td>\n",
       "      <td>Truncating Mutations</td>\n",
       "      <td>1</td>\n",
       "      <td>Cyclin-dependent kinases (CDKs) regulate a var...</td>\n",
       "    </tr>\n",
       "    <tr>\n",
       "      <th>1</th>\n",
       "      <td>1</td>\n",
       "      <td>CBL</td>\n",
       "      <td>W802*</td>\n",
       "      <td>2</td>\n",
       "      <td>Abstract Background  Non-small cell lung canc...</td>\n",
       "    </tr>\n",
       "    <tr>\n",
       "      <th>2</th>\n",
       "      <td>2</td>\n",
       "      <td>CBL</td>\n",
       "      <td>Q249E</td>\n",
       "      <td>2</td>\n",
       "      <td>Abstract Background  Non-small cell lung canc...</td>\n",
       "    </tr>\n",
       "    <tr>\n",
       "      <th>3</th>\n",
       "      <td>3</td>\n",
       "      <td>CBL</td>\n",
       "      <td>N454D</td>\n",
       "      <td>3</td>\n",
       "      <td>Recent evidence has demonstrated that acquired...</td>\n",
       "    </tr>\n",
       "    <tr>\n",
       "      <th>4</th>\n",
       "      <td>4</td>\n",
       "      <td>CBL</td>\n",
       "      <td>L399V</td>\n",
       "      <td>4</td>\n",
       "      <td>Oncogenic mutations in the monomeric Casitas B...</td>\n",
       "    </tr>\n",
       "  </tbody>\n",
       "</table>\n",
       "</div>"
      ],
      "text/plain": [
       "   ID    Gene             Variation  Class  \\\n",
       "0   0  FAM58A  Truncating Mutations      1   \n",
       "1   1     CBL                 W802*      2   \n",
       "2   2     CBL                 Q249E      2   \n",
       "3   3     CBL                 N454D      3   \n",
       "4   4     CBL                 L399V      4   \n",
       "\n",
       "                                                TEXT  \n",
       "0  Cyclin-dependent kinases (CDKs) regulate a var...  \n",
       "1   Abstract Background  Non-small cell lung canc...  \n",
       "2   Abstract Background  Non-small cell lung canc...  \n",
       "3  Recent evidence has demonstrated that acquired...  \n",
       "4  Oncogenic mutations in the monomeric Casitas B...  "
      ]
     },
     "execution_count": 14,
     "metadata": {},
     "output_type": "execute_result"
    }
   ],
   "source": [
    "# Head\n",
    "df_training.head()"
   ]
  },
  {
   "cell_type": "code",
   "execution_count": 15,
   "id": "089e2ad0-7b8b-4895-9171-10186daf8f88",
   "metadata": {},
   "outputs": [
    {
     "data": {
      "text/html": [
       "<div>\n",
       "<style scoped>\n",
       "    .dataframe tbody tr th:only-of-type {\n",
       "        vertical-align: middle;\n",
       "    }\n",
       "\n",
       "    .dataframe tbody tr th {\n",
       "        vertical-align: top;\n",
       "    }\n",
       "\n",
       "    .dataframe thead th {\n",
       "        text-align: right;\n",
       "    }\n",
       "</style>\n",
       "<table border=\"1\" class=\"dataframe\">\n",
       "  <thead>\n",
       "    <tr style=\"text-align: right;\">\n",
       "      <th></th>\n",
       "      <th>ID</th>\n",
       "      <th>Gene</th>\n",
       "      <th>Variation</th>\n",
       "      <th>Class</th>\n",
       "      <th>TEXT</th>\n",
       "    </tr>\n",
       "  </thead>\n",
       "  <tbody>\n",
       "    <tr>\n",
       "      <th>count</th>\n",
       "      <td>3321.000000</td>\n",
       "      <td>3321</td>\n",
       "      <td>3321</td>\n",
       "      <td>3321.000000</td>\n",
       "      <td>3316</td>\n",
       "    </tr>\n",
       "    <tr>\n",
       "      <th>unique</th>\n",
       "      <td>NaN</td>\n",
       "      <td>264</td>\n",
       "      <td>2996</td>\n",
       "      <td>NaN</td>\n",
       "      <td>1920</td>\n",
       "    </tr>\n",
       "    <tr>\n",
       "      <th>top</th>\n",
       "      <td>NaN</td>\n",
       "      <td>BRCA1</td>\n",
       "      <td>Truncating Mutations</td>\n",
       "      <td>NaN</td>\n",
       "      <td>The PTEN (phosphatase and tensin homolog) phos...</td>\n",
       "    </tr>\n",
       "    <tr>\n",
       "      <th>freq</th>\n",
       "      <td>NaN</td>\n",
       "      <td>264</td>\n",
       "      <td>93</td>\n",
       "      <td>NaN</td>\n",
       "      <td>53</td>\n",
       "    </tr>\n",
       "    <tr>\n",
       "      <th>mean</th>\n",
       "      <td>1660.000000</td>\n",
       "      <td>NaN</td>\n",
       "      <td>NaN</td>\n",
       "      <td>4.365854</td>\n",
       "      <td>NaN</td>\n",
       "    </tr>\n",
       "    <tr>\n",
       "      <th>std</th>\n",
       "      <td>958.834449</td>\n",
       "      <td>NaN</td>\n",
       "      <td>NaN</td>\n",
       "      <td>2.309781</td>\n",
       "      <td>NaN</td>\n",
       "    </tr>\n",
       "    <tr>\n",
       "      <th>min</th>\n",
       "      <td>0.000000</td>\n",
       "      <td>NaN</td>\n",
       "      <td>NaN</td>\n",
       "      <td>1.000000</td>\n",
       "      <td>NaN</td>\n",
       "    </tr>\n",
       "    <tr>\n",
       "      <th>25%</th>\n",
       "      <td>830.000000</td>\n",
       "      <td>NaN</td>\n",
       "      <td>NaN</td>\n",
       "      <td>2.000000</td>\n",
       "      <td>NaN</td>\n",
       "    </tr>\n",
       "    <tr>\n",
       "      <th>50%</th>\n",
       "      <td>1660.000000</td>\n",
       "      <td>NaN</td>\n",
       "      <td>NaN</td>\n",
       "      <td>4.000000</td>\n",
       "      <td>NaN</td>\n",
       "    </tr>\n",
       "    <tr>\n",
       "      <th>75%</th>\n",
       "      <td>2490.000000</td>\n",
       "      <td>NaN</td>\n",
       "      <td>NaN</td>\n",
       "      <td>7.000000</td>\n",
       "      <td>NaN</td>\n",
       "    </tr>\n",
       "    <tr>\n",
       "      <th>max</th>\n",
       "      <td>3320.000000</td>\n",
       "      <td>NaN</td>\n",
       "      <td>NaN</td>\n",
       "      <td>9.000000</td>\n",
       "      <td>NaN</td>\n",
       "    </tr>\n",
       "  </tbody>\n",
       "</table>\n",
       "</div>"
      ],
      "text/plain": [
       "                 ID   Gene             Variation        Class  \\\n",
       "count   3321.000000   3321                  3321  3321.000000   \n",
       "unique          NaN    264                  2996          NaN   \n",
       "top             NaN  BRCA1  Truncating Mutations          NaN   \n",
       "freq            NaN    264                    93          NaN   \n",
       "mean    1660.000000    NaN                   NaN     4.365854   \n",
       "std      958.834449    NaN                   NaN     2.309781   \n",
       "min        0.000000    NaN                   NaN     1.000000   \n",
       "25%      830.000000    NaN                   NaN     2.000000   \n",
       "50%     1660.000000    NaN                   NaN     4.000000   \n",
       "75%     2490.000000    NaN                   NaN     7.000000   \n",
       "max     3320.000000    NaN                   NaN     9.000000   \n",
       "\n",
       "                                                     TEXT  \n",
       "count                                                3316  \n",
       "unique                                               1920  \n",
       "top     The PTEN (phosphatase and tensin homolog) phos...  \n",
       "freq                                                   53  \n",
       "mean                                                  NaN  \n",
       "std                                                   NaN  \n",
       "min                                                   NaN  \n",
       "25%                                                   NaN  \n",
       "50%                                                   NaN  \n",
       "75%                                                   NaN  \n",
       "max                                                   NaN  "
      ]
     },
     "execution_count": 15,
     "metadata": {},
     "output_type": "execute_result"
    }
   ],
   "source": [
    "df_training.describe(include='all')"
   ]
  },
  {
   "cell_type": "code",
   "execution_count": 16,
   "id": "978f07d8-7d6a-435f-945c-fd46e3555f83",
   "metadata": {},
   "outputs": [
    {
     "data": {
      "text/html": [
       "<div>\n",
       "<style scoped>\n",
       "    .dataframe tbody tr th:only-of-type {\n",
       "        vertical-align: middle;\n",
       "    }\n",
       "\n",
       "    .dataframe tbody tr th {\n",
       "        vertical-align: top;\n",
       "    }\n",
       "\n",
       "    .dataframe thead th {\n",
       "        text-align: right;\n",
       "    }\n",
       "</style>\n",
       "<table border=\"1\" class=\"dataframe\">\n",
       "  <thead>\n",
       "    <tr style=\"text-align: right;\">\n",
       "      <th></th>\n",
       "      <th>ID</th>\n",
       "      <th>Gene</th>\n",
       "      <th>Variation</th>\n",
       "      <th>TEXT</th>\n",
       "    </tr>\n",
       "  </thead>\n",
       "  <tbody>\n",
       "    <tr>\n",
       "      <th>count</th>\n",
       "      <td>5668.000000</td>\n",
       "      <td>5668</td>\n",
       "      <td>5668</td>\n",
       "      <td>5667</td>\n",
       "    </tr>\n",
       "    <tr>\n",
       "      <th>unique</th>\n",
       "      <td>NaN</td>\n",
       "      <td>1397</td>\n",
       "      <td>5628</td>\n",
       "      <td>5610</td>\n",
       "    </tr>\n",
       "    <tr>\n",
       "      <th>top</th>\n",
       "      <td>NaN</td>\n",
       "      <td>F8</td>\n",
       "      <td>Truncating Mutations</td>\n",
       "      <td>The PTEN (phosphatase and tensin homolog) phos...</td>\n",
       "    </tr>\n",
       "    <tr>\n",
       "      <th>freq</th>\n",
       "      <td>NaN</td>\n",
       "      <td>134</td>\n",
       "      <td>18</td>\n",
       "      <td>6</td>\n",
       "    </tr>\n",
       "    <tr>\n",
       "      <th>mean</th>\n",
       "      <td>2833.500000</td>\n",
       "      <td>NaN</td>\n",
       "      <td>NaN</td>\n",
       "      <td>NaN</td>\n",
       "    </tr>\n",
       "    <tr>\n",
       "      <th>std</th>\n",
       "      <td>1636.354994</td>\n",
       "      <td>NaN</td>\n",
       "      <td>NaN</td>\n",
       "      <td>NaN</td>\n",
       "    </tr>\n",
       "    <tr>\n",
       "      <th>min</th>\n",
       "      <td>0.000000</td>\n",
       "      <td>NaN</td>\n",
       "      <td>NaN</td>\n",
       "      <td>NaN</td>\n",
       "    </tr>\n",
       "    <tr>\n",
       "      <th>25%</th>\n",
       "      <td>1416.750000</td>\n",
       "      <td>NaN</td>\n",
       "      <td>NaN</td>\n",
       "      <td>NaN</td>\n",
       "    </tr>\n",
       "    <tr>\n",
       "      <th>50%</th>\n",
       "      <td>2833.500000</td>\n",
       "      <td>NaN</td>\n",
       "      <td>NaN</td>\n",
       "      <td>NaN</td>\n",
       "    </tr>\n",
       "    <tr>\n",
       "      <th>75%</th>\n",
       "      <td>4250.250000</td>\n",
       "      <td>NaN</td>\n",
       "      <td>NaN</td>\n",
       "      <td>NaN</td>\n",
       "    </tr>\n",
       "    <tr>\n",
       "      <th>max</th>\n",
       "      <td>5667.000000</td>\n",
       "      <td>NaN</td>\n",
       "      <td>NaN</td>\n",
       "      <td>NaN</td>\n",
       "    </tr>\n",
       "  </tbody>\n",
       "</table>\n",
       "</div>"
      ],
      "text/plain": [
       "                 ID  Gene             Variation  \\\n",
       "count   5668.000000  5668                  5668   \n",
       "unique          NaN  1397                  5628   \n",
       "top             NaN    F8  Truncating Mutations   \n",
       "freq            NaN   134                    18   \n",
       "mean    2833.500000   NaN                   NaN   \n",
       "std     1636.354994   NaN                   NaN   \n",
       "min        0.000000   NaN                   NaN   \n",
       "25%     1416.750000   NaN                   NaN   \n",
       "50%     2833.500000   NaN                   NaN   \n",
       "75%     4250.250000   NaN                   NaN   \n",
       "max     5667.000000   NaN                   NaN   \n",
       "\n",
       "                                                     TEXT  \n",
       "count                                                5667  \n",
       "unique                                               5610  \n",
       "top     The PTEN (phosphatase and tensin homolog) phos...  \n",
       "freq                                                    6  \n",
       "mean                                                  NaN  \n",
       "std                                                   NaN  \n",
       "min                                                   NaN  \n",
       "25%                                                   NaN  \n",
       "50%                                                   NaN  \n",
       "75%                                                   NaN  \n",
       "max                                                   NaN  "
      ]
     },
     "execution_count": 16,
     "metadata": {},
     "output_type": "execute_result"
    }
   ],
   "source": [
    "df_test.describe(include='all')"
   ]
  },
  {
   "cell_type": "code",
   "execution_count": 17,
   "id": "4e9e83ff-a188-44a1-8d2d-ebaa339b632e",
   "metadata": {},
   "outputs": [
    {
     "data": {
      "text/plain": [
       "True"
      ]
     },
     "execution_count": 17,
     "metadata": {},
     "output_type": "execute_result"
    }
   ],
   "source": [
    "# Checando se há valores missing\n",
    "df_training.isnull().values.any()"
   ]
  },
  {
   "cell_type": "code",
   "execution_count": 18,
   "id": "7399dcc8-8370-4a91-b07a-800f0d20037e",
   "metadata": {},
   "outputs": [
    {
     "name": "stdout",
     "output_type": "stream",
     "text": [
      "ID           0\n",
      "Gene         0\n",
      "Variation    0\n",
      "Class        0\n",
      "TEXT         5\n",
      "dtype: int64\n"
     ]
    }
   ],
   "source": [
    "print(df_training.isna().sum())"
   ]
  },
  {
   "cell_type": "code",
   "execution_count": 19,
   "id": "9d55d3fc-ef8f-4a1c-b7cf-bcaea731e2c2",
   "metadata": {},
   "outputs": [
    {
     "data": {
      "text/html": [
       "<div>\n",
       "<style scoped>\n",
       "    .dataframe tbody tr th:only-of-type {\n",
       "        vertical-align: middle;\n",
       "    }\n",
       "\n",
       "    .dataframe tbody tr th {\n",
       "        vertical-align: top;\n",
       "    }\n",
       "\n",
       "    .dataframe thead th {\n",
       "        text-align: right;\n",
       "    }\n",
       "</style>\n",
       "<table border=\"1\" class=\"dataframe\">\n",
       "  <thead>\n",
       "    <tr style=\"text-align: right;\">\n",
       "      <th></th>\n",
       "      <th>ID</th>\n",
       "      <th>Gene</th>\n",
       "      <th>Variation</th>\n",
       "      <th>Class</th>\n",
       "      <th>TEXT</th>\n",
       "    </tr>\n",
       "  </thead>\n",
       "  <tbody>\n",
       "    <tr>\n",
       "      <th>0</th>\n",
       "      <td>0</td>\n",
       "      <td>FAM58A</td>\n",
       "      <td>Truncating Mutations</td>\n",
       "      <td>1</td>\n",
       "      <td>Cyclin-dependent kinases (CDKs) regulate a var...</td>\n",
       "    </tr>\n",
       "    <tr>\n",
       "      <th>1</th>\n",
       "      <td>1</td>\n",
       "      <td>CBL</td>\n",
       "      <td>W802*</td>\n",
       "      <td>2</td>\n",
       "      <td>Abstract Background  Non-small cell lung canc...</td>\n",
       "    </tr>\n",
       "    <tr>\n",
       "      <th>2</th>\n",
       "      <td>2</td>\n",
       "      <td>CBL</td>\n",
       "      <td>Q249E</td>\n",
       "      <td>2</td>\n",
       "      <td>Abstract Background  Non-small cell lung canc...</td>\n",
       "    </tr>\n",
       "    <tr>\n",
       "      <th>3</th>\n",
       "      <td>3</td>\n",
       "      <td>CBL</td>\n",
       "      <td>N454D</td>\n",
       "      <td>3</td>\n",
       "      <td>Recent evidence has demonstrated that acquired...</td>\n",
       "    </tr>\n",
       "    <tr>\n",
       "      <th>4</th>\n",
       "      <td>4</td>\n",
       "      <td>CBL</td>\n",
       "      <td>L399V</td>\n",
       "      <td>4</td>\n",
       "      <td>Oncogenic mutations in the monomeric Casitas B...</td>\n",
       "    </tr>\n",
       "    <tr>\n",
       "      <th>...</th>\n",
       "      <td>...</td>\n",
       "      <td>...</td>\n",
       "      <td>...</td>\n",
       "      <td>...</td>\n",
       "      <td>...</td>\n",
       "    </tr>\n",
       "    <tr>\n",
       "      <th>3316</th>\n",
       "      <td>3316</td>\n",
       "      <td>RUNX1</td>\n",
       "      <td>D171N</td>\n",
       "      <td>4</td>\n",
       "      <td>Introduction  Myelodysplastic syndromes (MDS) ...</td>\n",
       "    </tr>\n",
       "    <tr>\n",
       "      <th>3317</th>\n",
       "      <td>3317</td>\n",
       "      <td>RUNX1</td>\n",
       "      <td>A122*</td>\n",
       "      <td>1</td>\n",
       "      <td>Introduction  Myelodysplastic syndromes (MDS) ...</td>\n",
       "    </tr>\n",
       "    <tr>\n",
       "      <th>3318</th>\n",
       "      <td>3318</td>\n",
       "      <td>RUNX1</td>\n",
       "      <td>Fusions</td>\n",
       "      <td>1</td>\n",
       "      <td>The Runt-related transcription factor 1 gene (...</td>\n",
       "    </tr>\n",
       "    <tr>\n",
       "      <th>3319</th>\n",
       "      <td>3319</td>\n",
       "      <td>RUNX1</td>\n",
       "      <td>R80C</td>\n",
       "      <td>4</td>\n",
       "      <td>The RUNX1/AML1 gene is the most frequent targe...</td>\n",
       "    </tr>\n",
       "    <tr>\n",
       "      <th>3320</th>\n",
       "      <td>3320</td>\n",
       "      <td>RUNX1</td>\n",
       "      <td>K83E</td>\n",
       "      <td>4</td>\n",
       "      <td>The most frequent mutations associated with le...</td>\n",
       "    </tr>\n",
       "  </tbody>\n",
       "</table>\n",
       "<p>3316 rows × 5 columns</p>\n",
       "</div>"
      ],
      "text/plain": [
       "        ID    Gene             Variation  Class  \\\n",
       "0        0  FAM58A  Truncating Mutations      1   \n",
       "1        1     CBL                 W802*      2   \n",
       "2        2     CBL                 Q249E      2   \n",
       "3        3     CBL                 N454D      3   \n",
       "4        4     CBL                 L399V      4   \n",
       "...    ...     ...                   ...    ...   \n",
       "3316  3316   RUNX1                 D171N      4   \n",
       "3317  3317   RUNX1                 A122*      1   \n",
       "3318  3318   RUNX1               Fusions      1   \n",
       "3319  3319   RUNX1                  R80C      4   \n",
       "3320  3320   RUNX1                  K83E      4   \n",
       "\n",
       "                                                   TEXT  \n",
       "0     Cyclin-dependent kinases (CDKs) regulate a var...  \n",
       "1      Abstract Background  Non-small cell lung canc...  \n",
       "2      Abstract Background  Non-small cell lung canc...  \n",
       "3     Recent evidence has demonstrated that acquired...  \n",
       "4     Oncogenic mutations in the monomeric Casitas B...  \n",
       "...                                                 ...  \n",
       "3316  Introduction  Myelodysplastic syndromes (MDS) ...  \n",
       "3317  Introduction  Myelodysplastic syndromes (MDS) ...  \n",
       "3318  The Runt-related transcription factor 1 gene (...  \n",
       "3319  The RUNX1/AML1 gene is the most frequent targe...  \n",
       "3320  The most frequent mutations associated with le...  \n",
       "\n",
       "[3316 rows x 5 columns]"
      ]
     },
     "execution_count": 19,
     "metadata": {},
     "output_type": "execute_result"
    }
   ],
   "source": [
    "df_training.dropna()"
   ]
  },
  {
   "cell_type": "code",
   "execution_count": 20,
   "id": "e11210ef-265c-45f7-919a-3932fa54451d",
   "metadata": {},
   "outputs": [
    {
     "data": {
      "text/plain": [
       "(3321, 5)"
      ]
     },
     "execution_count": 20,
     "metadata": {},
     "output_type": "execute_result"
    }
   ],
   "source": [
    "# shape of df\n",
    "df_training.shape"
   ]
  },
  {
   "cell_type": "code",
   "execution_count": 21,
   "id": "18d71fe4",
   "metadata": {},
   "outputs": [
    {
     "data": {
      "text/plain": [
       "ID            int64\n",
       "Gene         object\n",
       "Variation    object\n",
       "Class         int64\n",
       "TEXT         object\n",
       "dtype: object"
      ]
     },
     "execution_count": 21,
     "metadata": {},
     "output_type": "execute_result"
    }
   ],
   "source": [
    "# Tipos de Dados\n",
    "df_training.dtypes"
   ]
  },
  {
   "cell_type": "code",
   "execution_count": 22,
   "id": "9b7d5e07-e044-4811-9e1c-bfdad29d2e64",
   "metadata": {},
   "outputs": [
    {
     "data": {
      "text/plain": [
       "(3321, 5)"
      ]
     },
     "execution_count": 22,
     "metadata": {},
     "output_type": "execute_result"
    }
   ],
   "source": [
    "# shape of df\n",
    "df_training.shape"
   ]
  },
  {
   "cell_type": "code",
   "execution_count": 23,
   "id": "1855b807-079e-4c07-9f86-030d68c5e3ba",
   "metadata": {},
   "outputs": [
    {
     "data": {
      "text/plain": [
       "(5668, 4)"
      ]
     },
     "execution_count": 23,
     "metadata": {},
     "output_type": "execute_result"
    }
   ],
   "source": [
    "# shape of df\n",
    "df_test.shape"
   ]
  },
  {
   "cell_type": "code",
   "execution_count": 24,
   "id": "b91f8e15-f0a6-41c6-91e2-ff489c71015e",
   "metadata": {},
   "outputs": [
    {
     "data": {
      "text/html": [
       "<div>\n",
       "<style scoped>\n",
       "    .dataframe tbody tr th:only-of-type {\n",
       "        vertical-align: middle;\n",
       "    }\n",
       "\n",
       "    .dataframe tbody tr th {\n",
       "        vertical-align: top;\n",
       "    }\n",
       "\n",
       "    .dataframe thead th {\n",
       "        text-align: right;\n",
       "    }\n",
       "</style>\n",
       "<table border=\"1\" class=\"dataframe\">\n",
       "  <thead>\n",
       "    <tr style=\"text-align: right;\">\n",
       "      <th></th>\n",
       "      <th>ID</th>\n",
       "      <th>Class</th>\n",
       "    </tr>\n",
       "  </thead>\n",
       "  <tbody>\n",
       "    <tr>\n",
       "      <th>count</th>\n",
       "      <td>3321.000000</td>\n",
       "      <td>3321.000000</td>\n",
       "    </tr>\n",
       "    <tr>\n",
       "      <th>mean</th>\n",
       "      <td>1660.000000</td>\n",
       "      <td>4.365854</td>\n",
       "    </tr>\n",
       "    <tr>\n",
       "      <th>std</th>\n",
       "      <td>958.834449</td>\n",
       "      <td>2.309781</td>\n",
       "    </tr>\n",
       "    <tr>\n",
       "      <th>min</th>\n",
       "      <td>0.000000</td>\n",
       "      <td>1.000000</td>\n",
       "    </tr>\n",
       "    <tr>\n",
       "      <th>25%</th>\n",
       "      <td>830.000000</td>\n",
       "      <td>2.000000</td>\n",
       "    </tr>\n",
       "    <tr>\n",
       "      <th>50%</th>\n",
       "      <td>1660.000000</td>\n",
       "      <td>4.000000</td>\n",
       "    </tr>\n",
       "    <tr>\n",
       "      <th>75%</th>\n",
       "      <td>2490.000000</td>\n",
       "      <td>7.000000</td>\n",
       "    </tr>\n",
       "    <tr>\n",
       "      <th>max</th>\n",
       "      <td>3320.000000</td>\n",
       "      <td>9.000000</td>\n",
       "    </tr>\n",
       "  </tbody>\n",
       "</table>\n",
       "</div>"
      ],
      "text/plain": [
       "                ID        Class\n",
       "count  3321.000000  3321.000000\n",
       "mean   1660.000000     4.365854\n",
       "std     958.834449     2.309781\n",
       "min       0.000000     1.000000\n",
       "25%     830.000000     2.000000\n",
       "50%    1660.000000     4.000000\n",
       "75%    2490.000000     7.000000\n",
       "max    3320.000000     9.000000"
      ]
     },
     "execution_count": 24,
     "metadata": {},
     "output_type": "execute_result"
    }
   ],
   "source": [
    "# df description\n",
    "df_training.describe()"
   ]
  },
  {
   "cell_type": "code",
   "execution_count": 25,
   "id": "f3fc7438-eb8b-46b3-b281-9a2a4099efe4",
   "metadata": {},
   "outputs": [
    {
     "name": "stdout",
     "output_type": "stream",
     "text": [
      "<class 'pandas.core.frame.DataFrame'>\n",
      "Int64Index: 3321 entries, 0 to 3320\n",
      "Data columns (total 5 columns):\n",
      " #   Column     Non-Null Count  Dtype \n",
      "---  ------     --------------  ----- \n",
      " 0   ID         3321 non-null   int64 \n",
      " 1   Gene       3321 non-null   object\n",
      " 2   Variation  3321 non-null   object\n",
      " 3   Class      3321 non-null   int64 \n",
      " 4   TEXT       3316 non-null   object\n",
      "dtypes: int64(2), object(3)\n",
      "memory usage: 155.7+ KB\n"
     ]
    }
   ],
   "source": [
    "# df description\n",
    "df_training.info()"
   ]
  },
  {
   "cell_type": "code",
   "execution_count": 26,
   "id": "2bd4ab3d-dda1-4c5a-bc55-151dd00272a8",
   "metadata": {},
   "outputs": [
    {
     "data": {
      "text/plain": [
       "(3321, 5)"
      ]
     },
     "execution_count": 26,
     "metadata": {},
     "output_type": "execute_result"
    }
   ],
   "source": [
    "# Shape\n",
    "df_training.shape"
   ]
  },
  {
   "cell_type": "code",
   "execution_count": 27,
   "id": "a0b55ba5-3c96-4deb-8c9b-191401702168",
   "metadata": {},
   "outputs": [],
   "source": [
    "# Remove os registros com valores NA e remove as duas primeiras colunas (não são necessária\n",
    "df_training = df_training.dropna()"
   ]
  },
  {
   "cell_type": "code",
   "execution_count": 28,
   "id": "5ef93b51-652c-4416-9474-56a158c46263",
   "metadata": {},
   "outputs": [
    {
     "name": "stdout",
     "output_type": "stream",
     "text": [
      "ID           0\n",
      "Gene         0\n",
      "Variation    0\n",
      "Class        0\n",
      "TEXT         0\n",
      "dtype: int64\n"
     ]
    }
   ],
   "source": [
    "# Verificando valores missing\n",
    "print(df_training.isna().sum())\n"
   ]
  },
  {
   "cell_type": "code",
   "execution_count": 29,
   "id": "c48ccf02-04ff-46f0-9979-b9956e26ccd4",
   "metadata": {},
   "outputs": [
    {
     "data": {
      "text/plain": [
       "ID           3316\n",
       "Gene          262\n",
       "Variation    2993\n",
       "Class           9\n",
       "TEXT         1920\n",
       "dtype: int64"
      ]
     },
     "execution_count": 29,
     "metadata": {},
     "output_type": "execute_result"
    }
   ],
   "source": [
    "# Verificando Valores Únicos\n",
    "df_training.nunique()"
   ]
  },
  {
   "cell_type": "code",
   "execution_count": 30,
   "id": "8a44df47-4661-4a89-8f2b-4a972b8e96d6",
   "metadata": {},
   "outputs": [
    {
     "name": "stdout",
     "output_type": "stream",
     "text": [
      "ID      0\n",
      "TEXT    1\n",
      "dtype: int64\n"
     ]
    }
   ],
   "source": [
    "print(df_test_text.isna().sum())"
   ]
  },
  {
   "cell_type": "code",
   "execution_count": 31,
   "id": "fdd02b7f-fa70-44f4-ad14-a85e982d33e9",
   "metadata": {},
   "outputs": [
    {
     "data": {
      "text/plain": [
       "ID      5668\n",
       "TEXT    5610\n",
       "dtype: int64"
      ]
     },
     "execution_count": 31,
     "metadata": {},
     "output_type": "execute_result"
    }
   ],
   "source": [
    "# Verificando Valores Únicos\n",
    "df_test_text.nunique()"
   ]
  },
  {
   "cell_type": "markdown",
   "id": "82e1c4ac",
   "metadata": {},
   "source": [
    "\n",
    "\n"
   ]
  },
  {
   "cell_type": "markdown",
   "id": "8ebf60b6-84aa-4fa6-8480-20d3601331ed",
   "metadata": {},
   "source": [
    "##  Análise Exploratória dos dados"
   ]
  },
  {
   "cell_type": "markdown",
   "id": "8188dd3a-0d6f-4f85-8644-eb672d44e07a",
   "metadata": {},
   "source": [
    "Exploração de Dados:\n",
    "Realizar análises exploratórias para entender a distribuição dos dados, identificar padrões e relações.\n",
    "Visualizar os dados usando gráficos e estatísticas descritivas."
   ]
  },
  {
   "cell_type": "markdown",
   "id": "41f9799f-6e7a-423e-b183-8d4a0a070d0d",
   "metadata": {},
   "source": [
    "### Separação das Variáveis Categóricas e Numéricas"
   ]
  },
  {
   "cell_type": "code",
   "execution_count": 32,
   "id": "fc84e91d-3ad0-43fe-b894-5e766a2b0d62",
   "metadata": {},
   "outputs": [],
   "source": [
    "# Lista de colunas categóricas\n",
    "cats = ['Gene',\n",
    "        'Variation']"
   ]
  },
  {
   "cell_type": "code",
   "execution_count": 33,
   "id": "d5fc84e9-cd96-4b99-a429-46c6c24c05db",
   "metadata": {},
   "outputs": [],
   "source": [
    "# Lista de colunas numéricas\n",
    "nums = ['Class']"
   ]
  },
  {
   "cell_type": "code",
   "execution_count": 34,
   "id": "b4d3cd4d-f9c2-49f5-9eb5-f69f3a823594",
   "metadata": {},
   "outputs": [
    {
     "data": {
      "text/html": [
       "<div>\n",
       "<style scoped>\n",
       "    .dataframe tbody tr th:only-of-type {\n",
       "        vertical-align: middle;\n",
       "    }\n",
       "\n",
       "    .dataframe tbody tr th {\n",
       "        vertical-align: top;\n",
       "    }\n",
       "\n",
       "    .dataframe thead th {\n",
       "        text-align: right;\n",
       "    }\n",
       "</style>\n",
       "<table border=\"1\" class=\"dataframe\">\n",
       "  <thead>\n",
       "    <tr style=\"text-align: right;\">\n",
       "      <th></th>\n",
       "      <th>Gene</th>\n",
       "      <th>Variation</th>\n",
       "    </tr>\n",
       "  </thead>\n",
       "  <tbody>\n",
       "    <tr>\n",
       "      <th>count</th>\n",
       "      <td>3316</td>\n",
       "      <td>3316</td>\n",
       "    </tr>\n",
       "    <tr>\n",
       "      <th>unique</th>\n",
       "      <td>262</td>\n",
       "      <td>2993</td>\n",
       "    </tr>\n",
       "    <tr>\n",
       "      <th>top</th>\n",
       "      <td>BRCA1</td>\n",
       "      <td>Truncating Mutations</td>\n",
       "    </tr>\n",
       "    <tr>\n",
       "      <th>freq</th>\n",
       "      <td>264</td>\n",
       "      <td>92</td>\n",
       "    </tr>\n",
       "  </tbody>\n",
       "</table>\n",
       "</div>"
      ],
      "text/plain": [
       "         Gene             Variation\n",
       "count    3316                  3316\n",
       "unique    262                  2993\n",
       "top     BRCA1  Truncating Mutations\n",
       "freq      264                    92"
      ]
     },
     "execution_count": 34,
     "metadata": {},
     "output_type": "execute_result"
    }
   ],
   "source": [
    "# Resumo das variáveis categóricas\n",
    "df_training[cats].describe()"
   ]
  },
  {
   "cell_type": "code",
   "execution_count": 35,
   "id": "041c3154-1719-4e65-94bf-8f11740da971",
   "metadata": {},
   "outputs": [
    {
     "name": "stdout",
     "output_type": "stream",
     "text": [
      "Total de Registros Por Categoria da Variável Gene:\n",
      "BRCA1     264\n",
      "TP53      163\n",
      "EGFR      141\n",
      "PTEN      126\n",
      "BRCA2     125\n",
      "         ... \n",
      "RICTOR      1\n",
      "PIK3R3      1\n",
      "PPM1D       1\n",
      "WHSC1       1\n",
      "FAM58A      1\n",
      "Name: Gene, Length: 262, dtype: int64\n",
      "\n",
      "Total de Registros Por Categoria da Variável Variation:\n",
      "Truncating Mutations    92\n",
      "Deletion                74\n",
      "Amplification           70\n",
      "Fusions                 34\n",
      "Overexpression           6\n",
      "                        ..\n",
      "H1094R                   1\n",
      "M1250T                   1\n",
      "PTPRZ1-MET Fusion        1\n",
      "H1106D                   1\n",
      "K83E                     1\n",
      "Name: Variation, Length: 2993, dtype: int64\n",
      "\n"
     ]
    }
   ],
   "source": [
    "# Listando o total por categoria de cada variável categórica\n",
    "for col in cats:\n",
    "    print(f'''Total de Registros Por Categoria da Variável {col}:''')\n",
    "    print(df_training[col].value_counts())\n",
    "    print()"
   ]
  },
  {
   "cell_type": "markdown",
   "id": "9511a8df-6080-4aa3-9a0c-d66f808668df",
   "metadata": {},
   "source": [
    "Variáveis Categóricas"
   ]
  },
  {
   "cell_type": "code",
   "execution_count": 36,
   "id": "443f18c2-3192-4c5c-83de-2e687d8f16cb",
   "metadata": {},
   "outputs": [
    {
     "data": {
      "text/plain": [
       "[Text(0.5, 1.0, 'Top 10 Tipo de Genes')]"
      ]
     },
     "execution_count": 36,
     "metadata": {},
     "output_type": "execute_result"
    },
    {
     "data": {
      "image/png": "[encoded data removed]",
      "text/plain": [
       "<Figure size 864x288 with 1 Axes>"
      ]
     },
     "metadata": {
      "needs_background": "light"
     },
     "output_type": "display_data"
    }
   ],
   "source": [
    "n = 10\n",
    "message = \"Top \"   +  str(n) + \" Tipo de Genes\"\n",
    "sns.countplot(x='Gene',data=df_training,order=pd.value_counts(df_training['Gene']).iloc[:10].index).set(title=message)"
   ]
  },
  {
   "cell_type": "code",
   "execution_count": 37,
   "id": "ba4077d7-ef17-4698-a46a-aff56a51c306",
   "metadata": {},
   "outputs": [
    {
     "data": {
      "text/plain": [
       "[Text(0.5, 1.0, 'Top 5 Tipo de Variações')]"
      ]
     },
     "execution_count": 37,
     "metadata": {},
     "output_type": "execute_result"
    },
    {
     "data": {
      "image/png": "[encoded data removed]",
      "text/plain": [
       "<Figure size 864x288 with 1 Axes>"
      ]
     },
     "metadata": {
      "needs_background": "light"
     },
     "output_type": "display_data"
    }
   ],
   "source": [
    "n = 5\n",
    "message = \"Top \"   +  str(n) + \" Tipo de Variações\"\n",
    "sns.countplot(x='Variation', data=df_training,order=pd.value_counts(df_training['Variation']).iloc[:n].index).set(title=message)"
   ]
  },
  {
   "cell_type": "code",
   "execution_count": null,
   "id": "62570bb2-9bc9-49dd-8837-bd3cf82fcf57",
   "metadata": {},
   "outputs": [],
   "source": []
  },
  {
   "cell_type": "markdown",
   "id": "833f23d0-ced3-4eb9-9184-a65fcc336ad0",
   "metadata": {},
   "source": [
    "Variáveis Numéricas"
   ]
  },
  {
   "cell_type": "code",
   "execution_count": 38,
   "id": "53f61bc1",
   "metadata": {},
   "outputs": [
    {
     "data": {
      "image/png": "[encoded data removed]",
      "text/plain": [
       "<Figure size 864x288 with 1 Axes>"
      ]
     },
     "metadata": {
      "needs_background": "light"
     },
     "output_type": "display_data"
    }
   ],
   "source": [
    "features = nums\n",
    "for i in range(0, len(features)):\n",
    "    plt.subplot(1, len(features), i + 1, title = 'Distribuição de Classes' )\n",
    "    sns.boxplot(y = df_training[features[i]], color = 'green', orient = 'v' )\n",
    "    plt.tight_layout()"
   ]
  },
  {
   "cell_type": "code",
   "execution_count": 39,
   "id": "d4bda9d1-05c9-4b3d-a762-4b64fe489afc",
   "metadata": {},
   "outputs": [
    {
     "data": {
      "text/plain": [
       "[Text(0.5, 1.0, 'Tipo de Classes')]"
      ]
     },
     "execution_count": 39,
     "metadata": {},
     "output_type": "execute_result"
    },
    {
     "data": {
      "image/png": "[encoded data removed]",
      "text/plain": [
       "<Figure size 864x288 with 1 Axes>"
      ]
     },
     "metadata": {
      "needs_background": "light"
     },
     "output_type": "display_data"
    }
   ],
   "source": [
    "sns.countplot(x='Class',data=df_training).set(title=\"Tipo de Classes\")"
   ]
  },
  {
   "cell_type": "markdown",
   "id": "1bc6aa0e-3308-483b-b5c8-49295a077755",
   "metadata": {},
   "source": [
    "Análise Univariada - Dist Plots"
   ]
  },
  {
   "cell_type": "code",
   "execution_count": 40,
   "id": "604fa474-9c10-4e1a-910b-976e0a8d4af3",
   "metadata": {},
   "outputs": [
    {
     "data": {
      "image/png": "[encoded data removed]",
      "text/plain": [
       "<Figure size 1440x720 with 1 Axes>"
      ]
     },
     "metadata": {
      "needs_background": "light"
     },
     "output_type": "display_data"
    }
   ],
   "source": [
    "features = nums\n",
    "plt.figure(figsize = (20, 10))\n",
    "for i in range(0, len(nums)):\n",
    "    #plt.subplot(3, len(nums)/2, i+1)\n",
    "    plt.subplot(3, len(nums), i+1)\n",
    "    sns.histplot(x = df_training[features[i]], kde = True, color = 'blue')\n",
    "    plt.xlabel(features[i])\n",
    "    plt.tight_layout()"
   ]
  },
  {
   "cell_type": "markdown",
   "id": "ee484f89-1631-4708-b209-c521606dea88",
   "metadata": {},
   "source": [
    "Ocorrência de Genes por Classes"
   ]
  },
  {
   "cell_type": "code",
   "execution_count": 41,
   "id": "b33d77fb-1e37-4a58-9cae-a8165bb2d311",
   "metadata": {},
   "outputs": [
    {
     "data": {
      "image/png": "[encoded data removed]",
      "text/plain": [
       "<Figure size 1080x1080 with 9 Axes>"
      ]
     },
     "metadata": {
      "needs_background": "light"
     },
     "output_type": "display_data"
    }
   ],
   "source": [
    "fig, axs = plt.subplots(ncols=3, nrows=3, figsize=(15,15))\n",
    "\n",
    "class_cnt = 0\n",
    "for i in range(3):\n",
    "    for j in range(3):\n",
    "        class_cnt += 1\n",
    "        msg = \"Classe \" + str(class_cnt) \n",
    "        gene_count_grp = df_training[df_training[\"Class\"]==((i*3+j)+1)].groupby('Gene')[\"ID\"].count().reset_index()\n",
    "        sorted_gene_group = gene_count_grp.sort_values('ID', ascending=False)\n",
    "        sorted_gene_group_top_5 = sorted_gene_group[:5]\n",
    "        sns.barplot(x=\"Gene\", y=\"ID\", data=sorted_gene_group_top_5, ax=axs[i][j]).set_title(msg)"
   ]
  },
  {
   "cell_type": "markdown",
   "id": "21e6fd80-601f-4d7c-a063-85371e337cf2",
   "metadata": {},
   "source": [
    "<iframe src=\"https://www.kaggle.com/embed/ouyimin19/loan-approval-prediction?cellIds=31&kernelSessionId=156453635\" height=\"300\" style=\"margin: 0 auto; width: 100%; max-width: 950px;\" frameborder=\"0\" scrolling=\"auto\" title=\"Loan Approval Prediction🤑🤑\"></iframe>"
   ]
  },
  {
   "cell_type": "markdown",
   "id": "dbe151a3-c9fc-435f-a97d-11988b9f83bf",
   "metadata": {},
   "source": [
    "##  Pré Processamento dos Dados"
   ]
  },
  {
   "cell_type": "markdown",
   "id": "d38cbd47-7d82-4fad-ba46-b39c7168774c",
   "metadata": {},
   "source": [
    "Label Encoding the categorical variables"
   ]
  },
  {
   "cell_type": "code",
   "execution_count": 42,
   "id": "c95420d6-71fc-413f-abcb-7b2793bf46ed",
   "metadata": {},
   "outputs": [],
   "source": [
    "# Label Encoding\n",
    "# Initialize the LabelEncoder\n",
    "label_encoder = LabelEncoder()\n",
    "# Apply the label encoder to the categorical variable\n",
    "df_training['Gene_Enc'] = label_encoder.fit_transform(df_training['Gene'])\n",
    "df_training['Variation_Enc'] = label_encoder.fit_transform(df_training['Variation'])\n",
    "\n",
    "df_training_model = df_training[['Gene_Enc', 'Variation_Enc','Class']]\n"
   ]
  },
  {
   "cell_type": "code",
   "execution_count": 43,
   "id": "fd721b02",
   "metadata": {},
   "outputs": [
    {
     "data": {
      "text/html": [
       "<div>\n",
       "<style scoped>\n",
       "    .dataframe tbody tr th:only-of-type {\n",
       "        vertical-align: middle;\n",
       "    }\n",
       "\n",
       "    .dataframe tbody tr th {\n",
       "        vertical-align: top;\n",
       "    }\n",
       "\n",
       "    .dataframe thead th {\n",
       "        text-align: right;\n",
       "    }\n",
       "</style>\n",
       "<table border=\"1\" class=\"dataframe\">\n",
       "  <thead>\n",
       "    <tr style=\"text-align: right;\">\n",
       "      <th></th>\n",
       "      <th>Gene_Enc</th>\n",
       "      <th>Variation_Enc</th>\n",
       "      <th>Class</th>\n",
       "    </tr>\n",
       "  </thead>\n",
       "  <tbody>\n",
       "    <tr>\n",
       "      <th>0</th>\n",
       "      <td>84</td>\n",
       "      <td>2626</td>\n",
       "      <td>1</td>\n",
       "    </tr>\n",
       "    <tr>\n",
       "      <th>1</th>\n",
       "      <td>38</td>\n",
       "      <td>2853</td>\n",
       "      <td>2</td>\n",
       "    </tr>\n",
       "    <tr>\n",
       "      <th>2</th>\n",
       "      <td>38</td>\n",
       "      <td>1895</td>\n",
       "      <td>2</td>\n",
       "    </tr>\n",
       "    <tr>\n",
       "      <th>3</th>\n",
       "      <td>38</td>\n",
       "      <td>1665</td>\n",
       "      <td>3</td>\n",
       "    </tr>\n",
       "    <tr>\n",
       "      <th>4</th>\n",
       "      <td>38</td>\n",
       "      <td>1445</td>\n",
       "      <td>4</td>\n",
       "    </tr>\n",
       "  </tbody>\n",
       "</table>\n",
       "</div>"
      ],
      "text/plain": [
       "   Gene_Enc  Variation_Enc  Class\n",
       "0        84           2626      1\n",
       "1        38           2853      2\n",
       "2        38           1895      2\n",
       "3        38           1665      3\n",
       "4        38           1445      4"
      ]
     },
     "execution_count": 43,
     "metadata": {},
     "output_type": "execute_result"
    }
   ],
   "source": [
    "df_training_model.head()"
   ]
  },
  {
   "cell_type": "code",
   "execution_count": 44,
   "id": "b797657b",
   "metadata": {},
   "outputs": [],
   "source": [
    "# Remove valores missing eventualmente gerados\n",
    "df_training.dropna(inplace = True)\n",
    "del df_training['ID'] "
   ]
  },
  {
   "cell_type": "code",
   "execution_count": 45,
   "id": "66c306d8-39f1-45e9-b5af-ac1b68f49c92",
   "metadata": {},
   "outputs": [
    {
     "data": {
      "text/plain": [
       "[Text(0.5, 1.0, 'Distribuição das Variações de Mutações')]"
      ]
     },
     "execution_count": 45,
     "metadata": {},
     "output_type": "execute_result"
    },
    {
     "data": {
      "image/png": "[encoded data removed]",
      "text/plain": [
       "<Figure size 864x288 with 1 Axes>"
      ]
     },
     "metadata": {
      "needs_background": "light"
     },
     "output_type": "display_data"
    }
   ],
   "source": [
    "sns.histplot(df_training['Variation_Enc'], bins = 30, kde = True, color = 'blue').set(title=\"Distribuição das Variações de Mutações\")"
   ]
  },
  {
   "cell_type": "code",
   "execution_count": 46,
   "id": "8e17f9f3-e6bf-4c4c-9169-e6cf99373e13",
   "metadata": {},
   "outputs": [
    {
     "data": {
      "text/plain": [
       "[Text(0.5, 1.0, 'Distribuição dos Genes')]"
      ]
     },
     "execution_count": 46,
     "metadata": {},
     "output_type": "execute_result"
    },
    {
     "data": {
      "image/png": "[encoded data removed]",
      "text/plain": [
       "<Figure size 864x288 with 1 Axes>"
      ]
     },
     "metadata": {
      "needs_background": "light"
     },
     "output_type": "display_data"
    }
   ],
   "source": [
    "sns.histplot(df_training['Gene_Enc'], bins = 30, kde = True, color = 'blue').set(title=\"Distribuição dos Genes\")"
   ]
  },
  {
   "cell_type": "markdown",
   "id": "f1b26d4e-25e8-46f8-9f11-38943c2ba28b",
   "metadata": {},
   "source": [
    "Para as variáveis Gene e Variations , não seguem uma Distribuição Normal"
   ]
  },
  {
   "cell_type": "code",
   "execution_count": 47,
   "id": "d7093c6a-7fd4-4f6c-a048-b6369594d14f",
   "metadata": {},
   "outputs": [
    {
     "data": {
      "text/plain": [
       "[Text(0.5, 1.0, 'Gene X Variation')]"
      ]
     },
     "execution_count": 47,
     "metadata": {},
     "output_type": "execute_result"
    },
    {
     "data": {
      "image/png": "[encoded data removed]",
      "text/plain": [
       "<Figure size 864x288 with 1 Axes>"
      ]
     },
     "metadata": {
      "needs_background": "light"
     },
     "output_type": "display_data"
    }
   ],
   "source": [
    "sns.scatterplot(x='Gene_Enc', y='Variation_Enc', data=df_training, hue='Gene_Enc', color = 'blue').set(title=\"Gene X Variation\")"
   ]
  },
  {
   "cell_type": "markdown",
   "id": "e3639499-ceb0-4a2f-9357-5a64951fa5e1",
   "metadata": {},
   "source": [
    " Para as variáveis Gene e Variations , não existem correlação, os dados estão dispersos sem correlação Positiva ou Negativa"
   ]
  },
  {
   "cell_type": "code",
   "execution_count": 48,
   "id": "5e9a190b-1919-47bd-a4c9-62ab08003142",
   "metadata": {},
   "outputs": [
    {
     "data": {
      "text/plain": [
       "[Text(0.5, 1.0, 'Variation')]"
      ]
     },
     "execution_count": 48,
     "metadata": {},
     "output_type": "execute_result"
    },
    {
     "data": {
      "image/png": "[encoded data removed]",
      "text/plain": [
       "<Figure size 720x360 with 2 Axes>"
      ]
     },
     "metadata": {
      "needs_background": "light"
     },
     "output_type": "display_data"
    }
   ],
   "source": [
    "fig, ax = plt.subplots(1,2,figsize=(10,5))\n",
    "sns.histplot(df_training['Gene_Enc'], ax=ax[0], color='red').set(title=\"Gene\")\n",
    "sns.histplot(df_training['Variation_Enc'], ax=ax[1], color='blue').set(title=\"Variation\")"
   ]
  },
  {
   "cell_type": "code",
   "execution_count": 49,
   "id": "c22bd9e7-bd4c-4596-81f6-d0ec08532ff4",
   "metadata": {},
   "outputs": [
    {
     "data": {
      "text/plain": [
       "[Text(0.5, 1.0, 'Gene X Variation')]"
      ]
     },
     "execution_count": 49,
     "metadata": {},
     "output_type": "execute_result"
    },
    {
     "data": {
      "image/png": "[encoded data removed]",
      "text/plain": [
       "<Figure size 720x360 with 2 Axes>"
      ]
     },
     "metadata": {
      "needs_background": "light"
     },
     "output_type": "display_data"
    }
   ],
   "source": [
    "fig, ax = plt.subplots(1,2,figsize=(10,5))\n",
    "sns.histplot(x  = 'Gene_Enc', data = df_training, ax=ax[0], hue = 'Class', multiple='stack').set(title=\"Gene X Variation\")\n",
    "sns.histplot(x =  'Variation_Enc', data = df_training, ax=ax[1], hue  = 'Class', multiple='stack').set(title=\"Gene X Variation\")"
   ]
  },
  {
   "cell_type": "code",
   "execution_count": 50,
   "id": "ac665754-5bb2-4ab6-beb6-21a6d9c2e55f",
   "metadata": {},
   "outputs": [
    {
     "data": {
      "text/html": [
       "<div>\n",
       "<style scoped>\n",
       "    .dataframe tbody tr th:only-of-type {\n",
       "        vertical-align: middle;\n",
       "    }\n",
       "\n",
       "    .dataframe tbody tr th {\n",
       "        vertical-align: top;\n",
       "    }\n",
       "\n",
       "    .dataframe thead th {\n",
       "        text-align: right;\n",
       "    }\n",
       "</style>\n",
       "<table border=\"1\" class=\"dataframe\">\n",
       "  <thead>\n",
       "    <tr style=\"text-align: right;\">\n",
       "      <th></th>\n",
       "      <th>Gene</th>\n",
       "      <th>Variation</th>\n",
       "      <th>Class</th>\n",
       "      <th>TEXT</th>\n",
       "      <th>Gene_Enc</th>\n",
       "      <th>Variation_Enc</th>\n",
       "    </tr>\n",
       "  </thead>\n",
       "  <tbody>\n",
       "    <tr>\n",
       "      <th>0</th>\n",
       "      <td>FAM58A</td>\n",
       "      <td>Truncating Mutations</td>\n",
       "      <td>1</td>\n",
       "      <td>Cyclin-dependent kinases (CDKs) regulate a var...</td>\n",
       "      <td>84</td>\n",
       "      <td>2626</td>\n",
       "    </tr>\n",
       "    <tr>\n",
       "      <th>1</th>\n",
       "      <td>CBL</td>\n",
       "      <td>W802*</td>\n",
       "      <td>2</td>\n",
       "      <td>Abstract Background  Non-small cell lung canc...</td>\n",
       "      <td>38</td>\n",
       "      <td>2853</td>\n",
       "    </tr>\n",
       "    <tr>\n",
       "      <th>2</th>\n",
       "      <td>CBL</td>\n",
       "      <td>Q249E</td>\n",
       "      <td>2</td>\n",
       "      <td>Abstract Background  Non-small cell lung canc...</td>\n",
       "      <td>38</td>\n",
       "      <td>1895</td>\n",
       "    </tr>\n",
       "    <tr>\n",
       "      <th>3</th>\n",
       "      <td>CBL</td>\n",
       "      <td>N454D</td>\n",
       "      <td>3</td>\n",
       "      <td>Recent evidence has demonstrated that acquired...</td>\n",
       "      <td>38</td>\n",
       "      <td>1665</td>\n",
       "    </tr>\n",
       "    <tr>\n",
       "      <th>4</th>\n",
       "      <td>CBL</td>\n",
       "      <td>L399V</td>\n",
       "      <td>4</td>\n",
       "      <td>Oncogenic mutations in the monomeric Casitas B...</td>\n",
       "      <td>38</td>\n",
       "      <td>1445</td>\n",
       "    </tr>\n",
       "  </tbody>\n",
       "</table>\n",
       "</div>"
      ],
      "text/plain": [
       "     Gene             Variation  Class  \\\n",
       "0  FAM58A  Truncating Mutations      1   \n",
       "1     CBL                 W802*      2   \n",
       "2     CBL                 Q249E      2   \n",
       "3     CBL                 N454D      3   \n",
       "4     CBL                 L399V      4   \n",
       "\n",
       "                                                TEXT  Gene_Enc  Variation_Enc  \n",
       "0  Cyclin-dependent kinases (CDKs) regulate a var...        84           2626  \n",
       "1   Abstract Background  Non-small cell lung canc...        38           2853  \n",
       "2   Abstract Background  Non-small cell lung canc...        38           1895  \n",
       "3  Recent evidence has demonstrated that acquired...        38           1665  \n",
       "4  Oncogenic mutations in the monomeric Casitas B...        38           1445  "
      ]
     },
     "execution_count": 50,
     "metadata": {},
     "output_type": "execute_result"
    }
   ],
   "source": [
    "df_training.head()"
   ]
  },
  {
   "cell_type": "code",
   "execution_count": 51,
   "id": "9362b279-a7aa-430a-a4ef-008763e11580",
   "metadata": {},
   "outputs": [
    {
     "data": {
      "text/html": [
       "<div>\n",
       "<style scoped>\n",
       "    .dataframe tbody tr th:only-of-type {\n",
       "        vertical-align: middle;\n",
       "    }\n",
       "\n",
       "    .dataframe tbody tr th {\n",
       "        vertical-align: top;\n",
       "    }\n",
       "\n",
       "    .dataframe thead th {\n",
       "        text-align: right;\n",
       "    }\n",
       "</style>\n",
       "<table border=\"1\" class=\"dataframe\">\n",
       "  <thead>\n",
       "    <tr style=\"text-align: right;\">\n",
       "      <th></th>\n",
       "      <th>Class</th>\n",
       "      <th>Gene_Enc</th>\n",
       "      <th>Variation_Enc</th>\n",
       "    </tr>\n",
       "  </thead>\n",
       "  <tbody>\n",
       "    <tr>\n",
       "      <th>Class</th>\n",
       "      <td>1.000000</td>\n",
       "      <td>-0.162004</td>\n",
       "      <td>-0.052875</td>\n",
       "    </tr>\n",
       "    <tr>\n",
       "      <th>Gene_Enc</th>\n",
       "      <td>-0.162004</td>\n",
       "      <td>1.000000</td>\n",
       "      <td>0.052221</td>\n",
       "    </tr>\n",
       "    <tr>\n",
       "      <th>Variation_Enc</th>\n",
       "      <td>-0.052875</td>\n",
       "      <td>0.052221</td>\n",
       "      <td>1.000000</td>\n",
       "    </tr>\n",
       "  </tbody>\n",
       "</table>\n",
       "</div>"
      ],
      "text/plain": [
       "                  Class  Gene_Enc  Variation_Enc\n",
       "Class          1.000000 -0.162004      -0.052875\n",
       "Gene_Enc      -0.162004  1.000000       0.052221\n",
       "Variation_Enc -0.052875  0.052221       1.000000"
      ]
     },
     "execution_count": 51,
     "metadata": {},
     "output_type": "execute_result"
    }
   ],
   "source": [
    "df_training.corr()"
   ]
  },
  {
   "cell_type": "code",
   "execution_count": 52,
   "id": "2ee11654-f41a-4976-879b-15943b4c0a6f",
   "metadata": {},
   "outputs": [],
   "source": [
    "corr_df = df_training.corr()"
   ]
  },
  {
   "cell_type": "code",
   "execution_count": 53,
   "id": "f8a8d476-5d27-4d5f-990a-1f8e16dcd1e6",
   "metadata": {},
   "outputs": [
    {
     "data": {
      "text/plain": [
       "Text(0.5, 1.0, 'Mapa de Correlação')"
      ]
     },
     "execution_count": 53,
     "metadata": {},
     "output_type": "execute_result"
    },
    {
     "data": {
      "image/png": "[encoded data removed]",
      "text/plain": [
       "<Figure size 576x576 with 2 Axes>"
      ]
     },
     "metadata": {
      "needs_background": "light"
     },
     "output_type": "display_data"
    }
   ],
   "source": [
    "plt.figure(figsize = (8, 8))\n",
    "sns.heatmap(corr_df, cmap = 'Blues', annot = True, fmt = '.2f').set_title('Mapa de Correlação')"
   ]
  },
  {
   "cell_type": "markdown",
   "id": "5db04fcc-20ca-413b-80b2-c5fae3e266d6",
   "metadata": {},
   "source": [
    " Para as variáveis Gene e Variations , não existem correlação, os dados estão dispersos sem correlação e muito fraca. Com isso, abaixo serão avaliados o NLP - Natural Language Processing para a extração dos Textos de comentários das Mutações, para complementar os modelos de ML possíveis."
   ]
  },
  {
   "cell_type": "markdown",
   "id": "04f03f50-8aaf-4c0c-b3d7-caff624cb739",
   "metadata": {},
   "source": [
    "#### NLP - TIDF e word2vector"
   ]
  },
  {
   "cell_type": "markdown",
   "id": "357c8f68-7f97-419b-9aa1-1592711c091e",
   "metadata": {},
   "source": [
    "Análise de Textos Campo TEXT(as evidências clínicas utilizadas para classificar a mutação genética) - "
   ]
  },
  {
   "cell_type": "code",
   "execution_count": 54,
   "id": "6ba61d61-8e5b-48d7-93ba-b0e11c81f7f4",
   "metadata": {},
   "outputs": [],
   "source": [
    "# Create Bag of Words features\n",
    "vectorizer = CountVectorizer(stop_words='english')\n",
    "X_bow = vectorizer.fit_transform(df_training['TEXT'])\n",
    "\n",
    "# Create TF-IDF features\n",
    "tfidf_vectorizer = TfidfVectorizer()\n",
    "X_tfidf = tfidf_vectorizer.fit_transform(df_training['TEXT'])\n",
    "\n",
    "# Tokenize the text\n",
    "tokenized_text = df_training['TEXT'].apply(lambda x: x.split())\n",
    "\n",
    "# Train Word2Vec model\n",
    "word2vec_model = Word2Vec(tokenized_text, vector_size=100, window=5, min_count=1, workers=4)\n",
    "\n",
    "# Create Word2Vec features by averaging word vectors for each document\n",
    "def get_avg_word2vec(tokens, model, vector_size):\n",
    "    feature_vec = np.zeros((vector_size,), dtype=\"float32\")\n",
    "    n_words = 0\n",
    "    for word in tokens:\n",
    "        if word in model.wv.key_to_index:\n",
    "            n_words += 1\n",
    "            feature_vec = np.add(feature_vec, model.wv[word])\n",
    "    if n_words > 0:\n",
    "        feature_vec = np.divide(feature_vec, n_words)\n",
    "    return feature_vec\n",
    "\n",
    "X_word2vec = np.array([get_avg_word2vec(tokens, word2vec_model, 100) for tokens in tokenized_text])"
   ]
  },
  {
   "cell_type": "markdown",
   "id": "862edb63-68e8-4507-b0ab-b13e5ddc34c6",
   "metadata": {},
   "source": [
    "#### NLP - TFIDF"
   ]
  },
  {
   "cell_type": "code",
   "execution_count": 55,
   "id": "81e515dc-79d0-4eeb-8032-99a743c43191",
   "metadata": {},
   "outputs": [],
   "source": [
    "\n",
    "\n",
    "# Create TF-IDF features\n",
    "tfidf_vectorizer = TfidfVectorizer(stop_words='english')\n",
    "X_tfidf = tfidf_vectorizer.fit_transform(df_training['TEXT'])\n",
    "\n",
    "# Convert the sparse matrix to a DataFrame\n",
    "tfidf_df = pd.DataFrame(X_tfidf.toarray(), columns=tfidf_vectorizer.get_feature_names_out())\n",
    "\n",
    "# Join the TF-IDF DataFrame with the original DataFrame\n",
    "df_combined = pd.concat([df_training.reset_index(drop=True), tfidf_df.reset_index(drop=True)], axis=1)\n",
    "\n",
    "# One-hot encode the categorical variables\n",
    "one_hot_encoder = OneHotEncoder()\n",
    "X_categorical = one_hot_encoder.fit_transform(df_training[['Gene', 'Variation']])\n",
    "\n",
    "# Combine the categorical and TF-IDF features\n",
    "X_combined = hstack([X_categorical, X_tfidf])\n",
    "\n",
    "# Prepare the target variable\n",
    "y = df_training['Class']\n",
    "\n",
    "\n"
   ]
  },
  {
   "cell_type": "markdown",
   "id": "17f77437-49e3-4558-a837-a3421f50d113",
   "metadata": {},
   "source": [
    "# Modelos"
   ]
  },
  {
   "cell_type": "markdown",
   "id": "109e5789",
   "metadata": {},
   "source": [
    "Distribuir os Dados em Treino e Teste"
   ]
  },
  {
   "cell_type": "code",
   "execution_count": 56,
   "id": "273bf39c-3a30-4edd-af13-6deb5878d11e",
   "metadata": {},
   "outputs": [],
   "source": [
    "from sklearn.model_selection import train_test_split\n",
    "\n",
    "# Separa X e y\n",
    "X = df_training_model.iloc[:,0:2]  \n",
    "y = df_training_model.iloc[:, 2] \n",
    "X_train, X_test, y_train, y_test = train_test_split(X , y, test_size=0.2, random_state=42)"
   ]
  },
  {
   "cell_type": "code",
   "execution_count": 57,
   "id": "2bbe2a08",
   "metadata": {},
   "outputs": [
    {
     "data": {
      "text/plain": [
       "(3316, 2)"
      ]
     },
     "execution_count": 57,
     "metadata": {},
     "output_type": "execute_result"
    }
   ],
   "source": [
    "# Shape dos dados reamostrados \n",
    "X.shape"
   ]
  },
  {
   "cell_type": "code",
   "execution_count": 58,
   "id": "62a6f707",
   "metadata": {},
   "outputs": [
    {
     "data": {
      "text/plain": [
       "(3316,)"
      ]
     },
     "execution_count": 58,
     "metadata": {},
     "output_type": "execute_result"
    }
   ],
   "source": [
    "# Shape dos dados reamostrados \n",
    "y.values.reshape(-1,1) \n",
    "y.shape"
   ]
  },
  {
   "cell_type": "code",
   "execution_count": 59,
   "id": "69b8cbee-8666-40a9-b5ad-c992a5a579b6",
   "metadata": {},
   "outputs": [
    {
     "data": {
      "text/html": [
       "<div>\n",
       "<style scoped>\n",
       "    .dataframe tbody tr th:only-of-type {\n",
       "        vertical-align: middle;\n",
       "    }\n",
       "\n",
       "    .dataframe tbody tr th {\n",
       "        vertical-align: top;\n",
       "    }\n",
       "\n",
       "    .dataframe thead th {\n",
       "        text-align: right;\n",
       "    }\n",
       "</style>\n",
       "<table border=\"1\" class=\"dataframe\">\n",
       "  <thead>\n",
       "    <tr style=\"text-align: right;\">\n",
       "      <th></th>\n",
       "      <th>Gene_Enc</th>\n",
       "      <th>Variation_Enc</th>\n",
       "    </tr>\n",
       "  </thead>\n",
       "  <tbody>\n",
       "    <tr>\n",
       "      <th>0</th>\n",
       "      <td>84</td>\n",
       "      <td>2626</td>\n",
       "    </tr>\n",
       "    <tr>\n",
       "      <th>1</th>\n",
       "      <td>38</td>\n",
       "      <td>2853</td>\n",
       "    </tr>\n",
       "    <tr>\n",
       "      <th>2</th>\n",
       "      <td>38</td>\n",
       "      <td>1895</td>\n",
       "    </tr>\n",
       "    <tr>\n",
       "      <th>3</th>\n",
       "      <td>38</td>\n",
       "      <td>1665</td>\n",
       "    </tr>\n",
       "    <tr>\n",
       "      <th>4</th>\n",
       "      <td>38</td>\n",
       "      <td>1445</td>\n",
       "    </tr>\n",
       "  </tbody>\n",
       "</table>\n",
       "</div>"
      ],
      "text/plain": [
       "   Gene_Enc  Variation_Enc\n",
       "0        84           2626\n",
       "1        38           2853\n",
       "2        38           1895\n",
       "3        38           1665\n",
       "4        38           1445"
      ]
     },
     "execution_count": 59,
     "metadata": {},
     "output_type": "execute_result"
    }
   ],
   "source": [
    "# Variáveis X \n",
    "df_training_model.iloc[:,0:2].head()"
   ]
  },
  {
   "cell_type": "code",
   "execution_count": 60,
   "id": "cb2abf2e",
   "metadata": {},
   "outputs": [
    {
     "data": {
      "text/plain": [
       "0    1\n",
       "1    2\n",
       "2    2\n",
       "3    3\n",
       "4    4\n",
       "Name: Class, dtype: int64"
      ]
     },
     "execution_count": 60,
     "metadata": {},
     "output_type": "execute_result"
    }
   ],
   "source": [
    "# Variável Y Target \n",
    "df_training_model.iloc[:, 2].head()"
   ]
  },
  {
   "cell_type": "markdown",
   "id": "6e82c42d",
   "metadata": {},
   "source": [
    "Normalizar os dados se necessário"
   ]
  },
  {
   "cell_type": "code",
   "execution_count": 61,
   "id": "05b2ed6e",
   "metadata": {},
   "outputs": [],
   "source": [
    "X_train_scaled = StandardScaler().fit_transform(X_train)\n",
    "X_test_scaled = StandardScaler().fit_transform(X_test)"
   ]
  },
  {
   "cell_type": "markdown",
   "id": "8e093370",
   "metadata": {},
   "source": [
    "### Modelo SVM Base"
   ]
  },
  {
   "cell_type": "code",
   "execution_count": 62,
   "id": "08db4645",
   "metadata": {},
   "outputs": [],
   "source": [
    "# Cria o modelo SVM \n",
    "modelo_svm_v1 = svm.SVC(kernel = 'linear')"
   ]
  },
  {
   "cell_type": "code",
   "execution_count": 63,
   "id": "75eba157",
   "metadata": {},
   "outputs": [
    {
     "name": "stdout",
     "output_type": "stream",
     "text": [
      "Tempo de Treinamento do Modelo: 0.9025280475616455\n"
     ]
    }
   ],
   "source": [
    "# Treinamento\n",
    "start = time.time()\n",
    "modelo_svm_v1.fit(X_train_scaled, y_train)\n",
    "end = time.time()\n",
    "print('Tempo de Treinamento do Modelo:', end - start)"
   ]
  },
  {
   "cell_type": "code",
   "execution_count": 64,
   "id": "0b638a9a",
   "metadata": {},
   "outputs": [],
   "source": [
    "# Previsões\n",
    "previsoes_v1 = modelo_svm_v1.predict(X_test_scaled)"
   ]
  },
  {
   "cell_type": "code",
   "execution_count": 65,
   "id": "b3135316-b317-4dd1-9888-e257037bd729",
   "metadata": {},
   "outputs": [
    {
     "name": "stdout",
     "output_type": "stream",
     "text": [
      "              precision    recall  f1-score   support\n",
      "\n",
      "           4       1.00      1.00      1.00       242\n",
      "           7       1.00      1.00      1.00       422\n",
      "\n",
      "    accuracy                           1.00       664\n",
      "   macro avg       1.00      1.00      1.00       664\n",
      "weighted avg       1.00      1.00      1.00       664\n",
      "\n"
     ]
    }
   ],
   "source": [
    "#predicting the Test data using our trained Linear SVM model\n",
    "print(classification_report(previsoes_v1, previsoes_v1))"
   ]
  },
  {
   "cell_type": "code",
   "execution_count": 66,
   "id": "abb8e457",
   "metadata": {},
   "outputs": [],
   "source": [
    "# Dicionário de métricas e metadados\n",
    "SVM_dict_v1 = {'Modelo':'SVM',\n",
    "               'Versão':'1',\n",
    "               'Kernel':'Linear',\n",
    "               'Precision':precision_score(previsoes_v1, y_test, pos_label='positive',average='macro'),\n",
    "               'Recall':recall_score(previsoes_v1, y_test, pos_label='positive', average='macro'),\n",
    "               'F1 Score':f1_score(previsoes_v1, y_test, pos_label='positive', average='macro'),\n",
    "               'Acurácia':accuracy_score(previsoes_v1, y_test)}"
   ]
  },
  {
   "cell_type": "code",
   "execution_count": 67,
   "id": "765611e6-52c0-46ff-85c9-5cb638d3d4a5",
   "metadata": {},
   "outputs": [
    {
     "name": "stdout",
     "output_type": "stream",
     "text": [
      "Métricas em Teste:\n",
      "\n"
     ]
    },
    {
     "data": {
      "text/plain": [
       "{'Modelo': 'SVM',\n",
       " 'Versão': '1',\n",
       " 'Kernel': 'Linear',\n",
       " 'Precision': 0.15329218106995887,\n",
       " 'Recall': 0.07615143246336697,\n",
       " 'F1 Score': 0.10146927377000864,\n",
       " 'Acurácia': 0.34036144578313254}"
      ]
     },
     "execution_count": 67,
     "metadata": {},
     "output_type": "execute_result"
    }
   ],
   "source": [
    "# Print\n",
    "print(\"Métricas em Teste:\\n\")\n",
    "SVM_dict_v1"
   ]
  },
  {
   "cell_type": "markdown",
   "id": "7a0713bb-a274-40e1-af15-78bd1ab85f91",
   "metadata": {},
   "source": [
    "### Modelo SVM 2 - Otimização de Hiperparâmetros com Grid Search e Kernel RBF"
   ]
  },
  {
   "cell_type": "code",
   "execution_count": 68,
   "id": "0fd3d5ba",
   "metadata": {},
   "outputs": [
    {
     "name": "stdout",
     "output_type": "stream",
     "text": [
      "Tempo de Treinamento do Modelo com Grid Search: 14.752351999282837\n",
      "Acurácia em Treinamento: 35.90%\n",
      "\n",
      "Hiperparâmetros Ideais: {'C': 200.0, 'gamma': 0.001}\n"
     ]
    }
   ],
   "source": [
    "# Cria o modelo\n",
    "modelo_v2 = svm.SVC(kernel = 'rbf')\n",
    "\n",
    "# Valores para o grid\n",
    "C_range = np.array([50., 100., 200.])\n",
    "gamma_range = np.array([0.3*0.001,0.001,3*0.001])\n",
    "\n",
    "# Grid de hiperparâmetros\n",
    "svm_param_grid = dict(gamma = gamma_range, C = C_range)\n",
    "\n",
    "# Grid Search\n",
    "start = time.time()\n",
    "modelo_v2_grid_search_rbf = GridSearchCV(modelo_v2, svm_param_grid, cv = 3)\n",
    "\n",
    "# Treinamento\n",
    "modelo_v2_grid_search_rbf.fit(X_train_scaled, y_train)\n",
    "end = time.time()\n",
    "print('Tempo de Treinamento do Modelo com Grid Search:', end - start)\n",
    "\n",
    "# Acurácia em Treino\n",
    "print(f\"Acurácia em Treinamento: {modelo_v2_grid_search_rbf.best_score_ :.2%}\")\n",
    "print(\"\")\n",
    "print(f\"Hiperparâmetros Ideais: {modelo_v2_grid_search_rbf.best_params_}\")\n",
    "\n",
    "# Previsões\n",
    "previsoes_v2 = modelo_v2_grid_search_rbf.predict(X_test_scaled)\n",
    "\n"
   ]
  },
  {
   "cell_type": "code",
   "execution_count": 69,
   "id": "ff292d7b-b834-4003-83ea-0ca3d57b9881",
   "metadata": {},
   "outputs": [
    {
     "name": "stdout",
     "output_type": "stream",
     "text": [
      "Métricas em Teste:\n",
      "\n"
     ]
    },
    {
     "data": {
      "text/plain": [
       "{'Modelo': 'SVM',\n",
       " 'Versão': '2',\n",
       " 'Kernel': 'Linear',\n",
       " 'Precision': 0.1651344015410209,\n",
       " 'Recall': 0.08666763827696125,\n",
       " 'F1 Score': 0.11135084087029168,\n",
       " 'Acurácia': 0.37349397590361444}"
      ]
     },
     "execution_count": 69,
     "metadata": {},
     "output_type": "execute_result"
    }
   ],
   "source": [
    "# Dicionário de métricas e metadados\n",
    "SVM_dict_v2 = {'Modelo':'SVM',\n",
    "               'Versão':'2',\n",
    "               'Kernel':'Linear',\n",
    "               'Precision':precision_score(previsoes_v2, y_test, pos_label='positive',average='macro'),\n",
    "               'Recall':recall_score(previsoes_v2, y_test, pos_label='positive', average='macro'),\n",
    "               'F1 Score':f1_score(previsoes_v2, y_test, pos_label='positive', average='macro'),\n",
    "               'Acurácia':accuracy_score(previsoes_v2, y_test)}\n",
    "\n",
    "# Print\n",
    "print(\"Métricas em Teste:\\n\")\n",
    "SVM_dict_v2"
   ]
  },
  {
   "cell_type": "markdown",
   "id": "145e740b-76d4-4bde-adab-f387fc74dfd4",
   "metadata": {},
   "source": [
    "### Modelo SVM 3 - Modelo com BOW , word2vector , TFIDF"
   ]
  },
  {
   "cell_type": "code",
   "execution_count": 70,
   "id": "67352878-c7d8-4635-9631-2cdbfbb7e6e9",
   "metadata": {},
   "outputs": [
    {
     "name": "stdout",
     "output_type": "stream",
     "text": [
      "Bag of Words Classification Report:\n",
      "               precision    recall  f1-score   support\n",
      "\n",
      "           1       0.50      0.63      0.56       118\n",
      "           2       0.57      0.51      0.54       105\n",
      "           3       0.25      0.20      0.22        20\n",
      "           4       0.66      0.62      0.64       135\n",
      "           5       0.43      0.34      0.38        47\n",
      "           6       0.56      0.67      0.61        42\n",
      "           7       0.69      0.66      0.68       188\n",
      "           8       0.20      0.33      0.25         3\n",
      "           9       0.80      0.67      0.73         6\n",
      "\n",
      "    accuracy                           0.59       664\n",
      "   macro avg       0.52      0.52      0.51       664\n",
      "weighted avg       0.59      0.59      0.59       664\n",
      "\n",
      "Bag of Words Accuracy Score: 0.5873493975903614\n",
      "TF-IDF Classification Report:\n",
      "               precision    recall  f1-score   support\n",
      "\n",
      "           1       0.60      0.60      0.60       118\n",
      "           2       0.65      0.33      0.44       105\n",
      "           3       0.60      0.15      0.24        20\n",
      "           4       0.66      0.73      0.70       135\n",
      "           5       0.40      0.30      0.34        47\n",
      "           6       0.67      0.57      0.62        42\n",
      "           7       0.62      0.86      0.72       188\n",
      "           8       0.50      0.33      0.40         3\n",
      "           9       1.00      0.67      0.80         6\n",
      "\n",
      "    accuracy                           0.62       664\n",
      "   macro avg       0.63      0.50      0.54       664\n",
      "weighted avg       0.62      0.62      0.60       664\n",
      "\n",
      "TF-IDF Accuracy Score: 0.6204819277108434\n",
      "Word2Vec Classification Report:\n",
      "               precision    recall  f1-score   support\n",
      "\n",
      "           1       0.47      0.52      0.49       118\n",
      "           2       0.70      0.27      0.39       105\n",
      "           3       0.33      0.05      0.09        20\n",
      "           4       0.61      0.55      0.58       135\n",
      "           5       0.49      0.40      0.44        47\n",
      "           6       0.77      0.55      0.64        42\n",
      "           7       0.55      0.86      0.67       188\n",
      "           8       0.00      0.00      0.00         3\n",
      "           9       1.00      0.67      0.80         6\n",
      "\n",
      "    accuracy                           0.56       664\n",
      "   macro avg       0.55      0.43      0.45       664\n",
      "weighted avg       0.57      0.56      0.54       664\n",
      "\n",
      "Word2Vec Accuracy Score: 0.5602409638554217\n"
     ]
    }
   ],
   "source": [
    "# Train and evaluate SVM model for Bag of Words\n",
    "X_train_bow, X_test_bow, y_train, y_test = train_test_split(X_bow, df_training_model.iloc[:, 2], test_size=0.2, random_state=42)\n",
    "\n",
    "svm_bow = svm.SVC(kernel='linear')\n",
    "svm_bow.fit(X_train_bow, y_train)\n",
    "y_pred_bow = svm_bow.predict(X_test_bow)\n",
    "\n",
    "print(\"Bag of Words Classification Report:\\n\", classification_report(y_test, y_pred_bow))\n",
    "print(\"Bag of Words Accuracy Score:\", accuracy_score(y_test, y_pred_bow))\n",
    "\n",
    "# Train and evaluate SVM model for TF-IDF\n",
    "X_train_tfidf, X_test_tfidf, y_train, y_test = train_test_split(X_tfidf, df_training_model.iloc[:, 2], test_size=0.2, random_state=42)\n",
    "\n",
    "svm_tfidf = svm.SVC(kernel='linear')\n",
    "svm_tfidf.fit(X_train_tfidf, y_train)\n",
    "y_pred_tfidf = svm_tfidf.predict(X_test_tfidf)\n",
    "\n",
    "print(\"TF-IDF Classification Report:\\n\", classification_report(y_test, y_pred_tfidf))\n",
    "print(\"TF-IDF Accuracy Score:\", accuracy_score(y_test, y_pred_tfidf))\n",
    "\n",
    "# Train and evaluate SVM model for Word2Vec\n",
    "X_train_w2v, X_test_w2v, y_train, y_test = train_test_split(X_word2vec, df_training_model.iloc[:, 2], test_size=0.2, random_state=42)\n",
    "\n",
    "svm_w2v = svm.SVC(kernel='linear')\n",
    "svm_w2v.fit(X_train_w2v, y_train)\n",
    "y_pred_w2v = svm_w2v.predict(X_test_w2v)\n",
    "\n",
    "\n",
    "print(\"Word2Vec Classification Report:\\n\", classification_report(y_test, y_pred_w2v))\n",
    "print(\"Word2Vec Accuracy Score:\", accuracy_score(y_test, y_pred_w2v))\n",
    "\n",
    "\n",
    "\n"
   ]
  },
  {
   "cell_type": "markdown",
   "id": "f2d6136b-19b0-4196-b166-f4e639aa65f5",
   "metadata": {},
   "source": [
    "### Modelo SVM 4 - Modelo TFIDF com Variáveis do DF Trainnig Gene , Variation e Class com TDIDF"
   ]
  },
  {
   "cell_type": "code",
   "execution_count": 71,
   "id": "365dc933-f521-49f3-95a7-b0123f64b5f5",
   "metadata": {},
   "outputs": [
    {
     "name": "stdout",
     "output_type": "stream",
     "text": [
      "Classification Report:\n",
      "               precision    recall  f1-score   support\n",
      "\n",
      "           1       0.70      0.67      0.68       118\n",
      "           2       0.70      0.45      0.55       105\n",
      "           3       0.67      0.20      0.31        20\n",
      "           4       0.76      0.78      0.77       135\n",
      "           5       0.47      0.43      0.44        47\n",
      "           6       0.62      0.57      0.59        42\n",
      "           7       0.66      0.88      0.76       188\n",
      "           8       0.50      0.33      0.40         3\n",
      "           9       0.80      0.67      0.73         6\n",
      "\n",
      "    accuracy                           0.68       664\n",
      "   macro avg       0.65      0.55      0.58       664\n",
      "weighted avg       0.68      0.68      0.66       664\n",
      "\n",
      "Accuracy Score: 0.677710843373494\n"
     ]
    }
   ],
   "source": [
    "\n",
    "# Split the data into training and testing sets\n",
    "X_train, X_test, y_train, y_test = train_test_split(X_combined, y, test_size=0.2, random_state=42)\n",
    "\n",
    "# Train the SVM model\n",
    "svm_model_v4 = svm.SVC(kernel='linear')\n",
    "svm_model_v4.fit(X_train, y_train)\n",
    "\n",
    "# Make predictions on the testing set\n",
    "previsoes_v4 = svm_model_v4.predict(X_test)\n",
    "\n",
    "# Print the classification report and accuracy score\n",
    "print(\"Classification Report:\\n\", classification_report(y_test, previsoes_v4))\n",
    "print(\"Accuracy Score:\", accuracy_score(y_test, previsoes_v4))\n"
   ]
  },
  {
   "cell_type": "code",
   "execution_count": 72,
   "id": "aec571a6-6d18-4788-aeb0-8d361a5ad592",
   "metadata": {},
   "outputs": [
    {
     "name": "stdout",
     "output_type": "stream",
     "text": [
      "Métricas em Teste:\n",
      "\n"
     ]
    },
    {
     "data": {
      "text/plain": [
       "{'Modelo': 'SVM',\n",
       " 'Versão': '4',\n",
       " 'Kernel': 'Linear',\n",
       " 'Precision': 0.5527586178385553,\n",
       " 'Recall': 0.651907869570612,\n",
       " 'F1 Score': 0.5807678454595417,\n",
       " 'Acurácia': 0.677710843373494}"
      ]
     },
     "execution_count": 72,
     "metadata": {},
     "output_type": "execute_result"
    }
   ],
   "source": [
    "# Dicionário de métricas e metadados\n",
    "SVM_dict_v4 = {'Modelo':'SVM',\n",
    "               'Versão':'4',\n",
    "               'Kernel':'Linear',\n",
    "               'Precision':precision_score(previsoes_v4, y_test, pos_label='positive',average='macro'),\n",
    "               'Recall':recall_score(previsoes_v4, y_test, pos_label='positive', average='macro'),\n",
    "               'F1 Score':f1_score(previsoes_v4, y_test, pos_label='positive', average='macro'),\n",
    "               'Acurácia':accuracy_score(previsoes_v4, y_test)}\n",
    "\n",
    "# Print\n",
    "print(\"Métricas em Teste:\\n\")\n",
    "SVM_dict_v4"
   ]
  },
  {
   "cell_type": "markdown",
   "id": "0a8c5682-0e1d-4486-ad5d-f56ff2f037f7",
   "metadata": {},
   "source": [
    "### Modelo KNN 5 - Modelo TFIDF com Variáveis do DF Trainnig Gene , Variation e Class com TDIDF"
   ]
  },
  {
   "cell_type": "code",
   "execution_count": 73,
   "id": "a473740b-a77b-4b65-b351-7190ae2f14bc",
   "metadata": {},
   "outputs": [
    {
     "name": "stdout",
     "output_type": "stream",
     "text": [
      "Classification Report:\n",
      "               precision    recall  f1-score   support\n",
      "\n",
      "           1       0.70      0.67      0.68       118\n",
      "           2       0.70      0.45      0.55       105\n",
      "           3       0.67      0.20      0.31        20\n",
      "           4       0.76      0.78      0.77       135\n",
      "           5       0.47      0.43      0.44        47\n",
      "           6       0.62      0.57      0.59        42\n",
      "           7       0.66      0.88      0.76       188\n",
      "           8       0.50      0.33      0.40         3\n",
      "           9       0.80      0.67      0.73         6\n",
      "\n",
      "    accuracy                           0.68       664\n",
      "   macro avg       0.65      0.55      0.58       664\n",
      "weighted avg       0.68      0.68      0.66       664\n",
      "\n",
      "Accuracy Score: 0.5933734939759037\n"
     ]
    }
   ],
   "source": [
    "\n",
    "# Split the data into training and testing sets\n",
    "X_train, X_test, y_train, y_test = train_test_split(X_combined, y, test_size=0.2, random_state=42)\n",
    "\n",
    "# Train the KNN model\n",
    "knn_model = KNeighborsClassifier(n_neighbors=9)  # You can adjust the number of neighbors\n",
    "knn_model.fit(X_train, y_train)\n",
    "\n",
    "# Make predictions on the testing set\n",
    "previsoes_v5 = knn_model.predict(X_test)\n",
    "\n",
    "# Print the classification report and accuracy score\n",
    "print(\"Classification Report:\\n\", classification_report(y_test, previsoes_v4))\n",
    "print(\"Accuracy Score:\", accuracy_score(y_test, previsoes_v5))\n"
   ]
  },
  {
   "cell_type": "code",
   "execution_count": 74,
   "id": "7dda44e7-e8ae-4c8d-a936-f32a943f6b36",
   "metadata": {},
   "outputs": [
    {
     "name": "stdout",
     "output_type": "stream",
     "text": [
      "Métricas em Teste:\n",
      "\n"
     ]
    },
    {
     "data": {
      "text/plain": [
       "{'Modelo': 'KNN',\n",
       " 'Versão': '5',\n",
       " 'Kernel': 'Linear',\n",
       " 'Precision': 0.4530445911942086,\n",
       " 'Recall': 0.5605542406122838,\n",
       " 'F1 Score': 0.4862370562688145,\n",
       " 'Acurácia': 0.5933734939759037}"
      ]
     },
     "execution_count": 74,
     "metadata": {},
     "output_type": "execute_result"
    }
   ],
   "source": [
    "# Dicionário de métricas e metadados\n",
    "knn_dict_v5 = {'Modelo':'KNN',\n",
    "               'Versão':'5',\n",
    "               'Kernel':'Linear',\n",
    "               'Precision':precision_score(previsoes_v5, y_test, pos_label='positive',average='macro'),\n",
    "               'Recall':recall_score(previsoes_v5, y_test, pos_label='positive', average='macro'),\n",
    "               'F1 Score':f1_score(previsoes_v5, y_test, pos_label='positive', average='macro'),\n",
    "               'Acurácia':accuracy_score(previsoes_v5, y_test)}\n",
    "\n",
    "# Print\n",
    "print(\"Métricas em Teste:\\n\")\n",
    "knn_dict_v5"
   ]
  },
  {
   "cell_type": "markdown",
   "id": "4306e8ee-a68e-42a1-aee0-ea3d882d7255",
   "metadata": {},
   "source": [
    "### Modelo Randonforrest 6 - Modelo TFIDF com Variáveis do DF Trainnig Gene , Variation e Class com TDIDF"
   ]
  },
  {
   "cell_type": "code",
   "execution_count": 76,
   "id": "ba6a2cb5-680c-45a1-9db7-eefbf18dbad1",
   "metadata": {},
   "outputs": [
    {
     "name": "stdout",
     "output_type": "stream",
     "text": [
      "Classification Report:\n",
      "               precision    recall  f1-score   support\n",
      "\n",
      "           1       0.60      0.58      0.59       118\n",
      "           2       0.75      0.34      0.47       105\n",
      "           3       0.38      0.25      0.30        20\n",
      "           4       0.67      0.69      0.68       135\n",
      "           5       0.55      0.38      0.45        47\n",
      "           6       0.68      0.62      0.65        42\n",
      "           7       0.60      0.87      0.71       188\n",
      "           8       0.00      0.00      0.00         3\n",
      "           9       0.67      0.67      0.67         6\n",
      "\n",
      "    accuracy                           0.62       664\n",
      "   macro avg       0.54      0.49      0.50       664\n",
      "weighted avg       0.63      0.62      0.61       664\n",
      "\n",
      "Accuracy Score: 0.6234939759036144\n"
     ]
    }
   ],
   "source": [
    "\n",
    "# Split the data into training and testing sets\n",
    "X_train, X_test, y_train, y_test = train_test_split(X_combined, y, test_size=0.2, random_state=42)\n",
    "\n",
    "# Train the Random Forest model\n",
    "rf_model_v6 = RandomForestClassifier(n_estimators=100, random_state=42)  # You can adjust the number of estimators\n",
    "rf_model_v6.fit(X_train, y_train)\n",
    "\n",
    "# Make predictions on the testing set\n",
    "previsoes_v6 = rf_model_v6.predict(X_test)\n",
    "\n",
    "\n",
    "# Print the classification report and accuracy score\n",
    "print(\"Classification Report:\\n\", classification_report(y_test, previsoes_v6))\n",
    "print(\"Accuracy Score:\", accuracy_score(y_test, previsoes_v6))\n"
   ]
  },
  {
   "cell_type": "code",
   "execution_count": 77,
   "id": "faeb53cf-707d-4c05-8072-b8656f4b2cd9",
   "metadata": {},
   "outputs": [
    {
     "name": "stdout",
     "output_type": "stream",
     "text": [
      "Métricas em Teste:\n",
      "\n"
     ]
    },
    {
     "data": {
      "text/plain": [
       "{'Modelo': 'RF',\n",
       " 'Versão': '6',\n",
       " 'Kernel': 'Linear',\n",
       " 'Precision': 0.48878340587079616,\n",
       " 'Recall': 0.5444323933984694,\n",
       " 'F1 Score': 0.5019741658686893,\n",
       " 'Acurácia': 0.6234939759036144}"
      ]
     },
     "execution_count": 77,
     "metadata": {},
     "output_type": "execute_result"
    }
   ],
   "source": [
    "# Dicionário de métricas e metadados\n",
    "rf_dict_v6 = {'Modelo':'RF',\n",
    "               'Versão':'6',\n",
    "               'Kernel':'Linear',\n",
    "               'Precision':precision_score(previsoes_v6, y_test, pos_label='positive',average='macro'),\n",
    "               'Recall':recall_score(previsoes_v6, y_test, pos_label='positive', average='macro'),\n",
    "               'F1 Score':f1_score(previsoes_v6, y_test, pos_label='positive', average='macro'),\n",
    "               'Acurácia':accuracy_score(previsoes_v6, y_test)}\n",
    "\n",
    "# Print\n",
    "print(\"Métricas em Teste:\\n\")\n",
    "rf_dict_v6"
   ]
  },
  {
   "cell_type": "markdown",
   "id": "5ad9d23a-2e4a-4b5a-b9be-6f88f4735666",
   "metadata": {},
   "source": [
    "### Modelo GradientBoostingClassifier 7 - Modelo TFIDF com Variáveis do DF Trainnig Gene , Variation e Class com TDIDF"
   ]
  },
  {
   "cell_type": "code",
   "execution_count": 78,
   "id": "6580b4c5-cdfd-4137-b5ee-07b4c846408b",
   "metadata": {},
   "outputs": [
    {
     "name": "stdout",
     "output_type": "stream",
     "text": [
      "Classification Report:\n",
      "               precision    recall  f1-score   support\n",
      "\n",
      "           1       0.53      0.67      0.59       118\n",
      "           2       0.55      0.36      0.44       105\n",
      "           3       0.45      0.25      0.32        20\n",
      "           4       0.67      0.65      0.66       135\n",
      "           5       0.40      0.30      0.34        47\n",
      "           6       0.60      0.57      0.59        42\n",
      "           7       0.62      0.72      0.66       188\n",
      "           8       0.00      0.00      0.00         3\n",
      "           9       0.57      0.67      0.62         6\n",
      "\n",
      "    accuracy                           0.58       664\n",
      "   macro avg       0.49      0.47      0.47       664\n",
      "weighted avg       0.58      0.58      0.57       664\n",
      "\n",
      "Accuracy Score: 0.5828313253012049\n"
     ]
    }
   ],
   "source": [
    "# Split the data into training and testing sets\n",
    "X_train, X_test, y_train, y_test = train_test_split(X_combined, y, test_size=0.2, random_state=42)\n",
    "\n",
    "\n",
    "# Cria o classificador\n",
    "GBoosting_model_v7 = GradientBoostingClassifier(n_estimators = 20, learning_rate = 1.0, random_state = 0)\n",
    "GBoosting_model_v7.fit(X_train, y_train)\n",
    "\n",
    "# Make predictions on the testing set\n",
    "previsoes_v7 = GBoosting_model_v7.predict(X_test)\n",
    "\n",
    "\n",
    "# Print the classification report and accuracy score\n",
    "print(\"Classification Report:\\n\", classification_report(y_test, previsoes_v7))\n",
    "print(\"Accuracy Score:\", accuracy_score(y_test, previsoes_v7))"
   ]
  },
  {
   "cell_type": "code",
   "execution_count": 79,
   "id": "15b04cd2-2b84-4f59-b60c-cf81bee2c2b6",
   "metadata": {},
   "outputs": [
    {
     "name": "stdout",
     "output_type": "stream",
     "text": [
      "Métricas em Teste:\n",
      "\n"
     ]
    },
    {
     "data": {
      "text/plain": [
       "{'Modelo': 'GradientBoosting',\n",
       " 'Versão': '7',\n",
       " 'Kernel': 'Linear',\n",
       " 'Precision': 0.48878340587079616,\n",
       " 'Recall': 0.5444323933984694,\n",
       " 'F1 Score': 0.5019741658686893,\n",
       " 'Acurácia': 0.6234939759036144}"
      ]
     },
     "execution_count": 79,
     "metadata": {},
     "output_type": "execute_result"
    }
   ],
   "source": [
    "# Dicionário de métricas e metadados\n",
    "gb_dict_v7 = {'Modelo':'GradientBoosting',\n",
    "               'Versão':'7',\n",
    "               'Kernel':'Linear',\n",
    "               'Precision':precision_score(previsoes_v6, y_test, pos_label='positive',average='macro'),\n",
    "               'Recall':recall_score(previsoes_v6, y_test, pos_label='positive', average='macro'),\n",
    "               'F1 Score':f1_score(previsoes_v6, y_test, pos_label='positive', average='macro'),\n",
    "               'Acurácia':accuracy_score(previsoes_v6, y_test)}\n",
    "\n",
    "# Print\n",
    "print(\"Métricas em Teste:\\n\")\n",
    "gb_dict_v7"
   ]
  },
  {
   "cell_type": "markdown",
   "id": "285ff8f6-3211-4aa2-a8e8-fab59d900e3e",
   "metadata": {},
   "source": [
    "### Qualificação do Melhor Modelo"
   ]
  },
  {
   "cell_type": "code",
   "execution_count": 81,
   "id": "fb51beb2-fe70-47f9-81ca-dea15a27802c",
   "metadata": {},
   "outputs": [],
   "source": [
    "df_model_review = pd.DataFrame([SVM_dict_v1,SVM_dict_v2, SVM_dict_v4,  knn_dict_v5, rf_dict_v6, gb_dict_v7])"
   ]
  },
  {
   "cell_type": "code",
   "execution_count": 82,
   "id": "868912b3-612b-462a-8e22-d1105eb6b069",
   "metadata": {},
   "outputs": [
    {
     "data": {
      "text/html": [
       "<div>\n",
       "<style scoped>\n",
       "    .dataframe tbody tr th:only-of-type {\n",
       "        vertical-align: middle;\n",
       "    }\n",
       "\n",
       "    .dataframe tbody tr th {\n",
       "        vertical-align: top;\n",
       "    }\n",
       "\n",
       "    .dataframe thead th {\n",
       "        text-align: right;\n",
       "    }\n",
       "</style>\n",
       "<table border=\"1\" class=\"dataframe\">\n",
       "  <thead>\n",
       "    <tr style=\"text-align: right;\">\n",
       "      <th></th>\n",
       "      <th>Modelo</th>\n",
       "      <th>Versão</th>\n",
       "      <th>Kernel</th>\n",
       "      <th>Precision</th>\n",
       "      <th>Recall</th>\n",
       "      <th>F1 Score</th>\n",
       "      <th>Acurácia</th>\n",
       "    </tr>\n",
       "  </thead>\n",
       "  <tbody>\n",
       "    <tr>\n",
       "      <th>0</th>\n",
       "      <td>SVM</td>\n",
       "      <td>1</td>\n",
       "      <td>Linear</td>\n",
       "      <td>0.153292</td>\n",
       "      <td>0.076151</td>\n",
       "      <td>0.101469</td>\n",
       "      <td>0.340361</td>\n",
       "    </tr>\n",
       "    <tr>\n",
       "      <th>1</th>\n",
       "      <td>SVM</td>\n",
       "      <td>2</td>\n",
       "      <td>Linear</td>\n",
       "      <td>0.165134</td>\n",
       "      <td>0.086668</td>\n",
       "      <td>0.111351</td>\n",
       "      <td>0.373494</td>\n",
       "    </tr>\n",
       "    <tr>\n",
       "      <th>2</th>\n",
       "      <td>SVM</td>\n",
       "      <td>4</td>\n",
       "      <td>Linear</td>\n",
       "      <td>0.552759</td>\n",
       "      <td>0.651908</td>\n",
       "      <td>0.580768</td>\n",
       "      <td>0.677711</td>\n",
       "    </tr>\n",
       "    <tr>\n",
       "      <th>3</th>\n",
       "      <td>KNN</td>\n",
       "      <td>5</td>\n",
       "      <td>Linear</td>\n",
       "      <td>0.453045</td>\n",
       "      <td>0.560554</td>\n",
       "      <td>0.486237</td>\n",
       "      <td>0.593373</td>\n",
       "    </tr>\n",
       "    <tr>\n",
       "      <th>4</th>\n",
       "      <td>RF</td>\n",
       "      <td>6</td>\n",
       "      <td>Linear</td>\n",
       "      <td>0.488783</td>\n",
       "      <td>0.544432</td>\n",
       "      <td>0.501974</td>\n",
       "      <td>0.623494</td>\n",
       "    </tr>\n",
       "    <tr>\n",
       "      <th>5</th>\n",
       "      <td>GradientBoosting</td>\n",
       "      <td>7</td>\n",
       "      <td>Linear</td>\n",
       "      <td>0.488783</td>\n",
       "      <td>0.544432</td>\n",
       "      <td>0.501974</td>\n",
       "      <td>0.623494</td>\n",
       "    </tr>\n",
       "  </tbody>\n",
       "</table>\n",
       "</div>"
      ],
      "text/plain": [
       "             Modelo Versão  Kernel  Precision    Recall  F1 Score  Acurácia\n",
       "0               SVM      1  Linear   0.153292  0.076151  0.101469  0.340361\n",
       "1               SVM      2  Linear   0.165134  0.086668  0.111351  0.373494\n",
       "2               SVM      4  Linear   0.552759  0.651908  0.580768  0.677711\n",
       "3               KNN      5  Linear   0.453045  0.560554  0.486237  0.593373\n",
       "4                RF      6  Linear   0.488783  0.544432  0.501974  0.623494\n",
       "5  GradientBoosting      7  Linear   0.488783  0.544432  0.501974  0.623494"
      ]
     },
     "execution_count": 82,
     "metadata": {},
     "output_type": "execute_result"
    }
   ],
   "source": [
    "df_model_review"
   ]
  },
  {
   "cell_type": "code",
   "execution_count": 83,
   "id": "3a556db8-a4f1-4440-8158-84c4e04608ff",
   "metadata": {},
   "outputs": [
    {
     "data": {
      "text/plain": [
       "Text(0.5, 1.0, 'Avaliação de Modelos')"
      ]
     },
     "execution_count": 83,
     "metadata": {},
     "output_type": "execute_result"
    },
    {
     "data": {
      "image/png": "[encoded data removed]",
      "text/plain": [
       "<Figure size 864x288 with 1 Axes>"
      ]
     },
     "metadata": {},
     "output_type": "display_data"
    }
   ],
   "source": [
    "#set seaborn plotting aesthetics\n",
    "sns.set(style='white')\n",
    "\n",
    "#create stacked bar chart\n",
    "df_model_review.set_index('Modelo').plot(kind='barh', y='Acurácia', stacked=True, color=['steelblue', 'red']).set_title('Avaliação de Modelos')"
   ]
  },
  {
   "cell_type": "code",
   "execution_count": 85,
   "id": "83561ec5-fc2d-441f-8a81-689bbcd85081",
   "metadata": {},
   "outputs": [
    {
     "data": {
      "image/png": "[encoded data removed]",
      "text/plain": [
       "<Figure size 720x432 with 1 Axes>"
      ]
     },
     "metadata": {},
     "output_type": "display_data"
    }
   ],
   "source": [
    "# Ensure versions are treated as numerical values for plotting\n",
    "df_model_review['Versão'] = pd.to_numeric(df_model_review['Versão'])\n",
    "\n",
    "# Melt the DataFrame to long-form for Seaborn\n",
    "df_melted = df_model_review.melt(id_vars=['Modelo', 'Versão'], \n",
    "                    value_vars=['Precision', 'Recall', 'F1 Score', 'Acurácia'],\n",
    "                    var_name='Metric', value_name='Value')\n",
    "\n",
    "# Create the line plot\n",
    "plt.figure(figsize=(10, 6))\n",
    "sns.lineplot(data=df_melted, x='Versão', y='Value', hue='Metric', marker='o')\n",
    "plt.title('Avaliação de Metrics Model Performance ')\n",
    "plt.xlabel('Versão do Modelo')\n",
    "plt.ylabel('Score')\n",
    "plt.ylim(0, 1)\n",
    "plt.legend(title='Metric')\n",
    "plt.grid(True)\n",
    "plt.show()"
   ]
  },
  {
   "cell_type": "markdown",
   "id": "b2099785-56c7-4adf-8595-8a76a6691991",
   "metadata": {},
   "source": [
    "Avaliando o Modelos acima, o Modelo escolhido foi o SVM 4 ( Combiando o SVM + TFIDF com maior classificação entre ( word2vetor e bagofwords ).\n",
    "Os dados para esse modelos estão muito dispersos e mesmo SVM , otimizando parametros, não foi possível uma Acurária melhor que 67%."
   ]
  },
  {
   "cell_type": "markdown",
   "id": "4f12bd2c",
   "metadata": {},
   "source": [
    "### Fazendo Previsões com o Modelo Treinado"
   ]
  },
  {
   "cell_type": "code",
   "execution_count": 97,
   "id": "1f515ee4",
   "metadata": {},
   "outputs": [
    {
     "data": {
      "text/html": [
       "<div>\n",
       "<style scoped>\n",
       "    .dataframe tbody tr th:only-of-type {\n",
       "        vertical-align: middle;\n",
       "    }\n",
       "\n",
       "    .dataframe tbody tr th {\n",
       "        vertical-align: top;\n",
       "    }\n",
       "\n",
       "    .dataframe thead th {\n",
       "        text-align: right;\n",
       "    }\n",
       "</style>\n",
       "<table border=\"1\" class=\"dataframe\">\n",
       "  <thead>\n",
       "    <tr style=\"text-align: right;\">\n",
       "      <th></th>\n",
       "      <th>Gene</th>\n",
       "      <th>Variation</th>\n",
       "      <th>Class</th>\n",
       "      <th>TEXT</th>\n",
       "      <th>Gene_Enc</th>\n",
       "      <th>Variation_Enc</th>\n",
       "    </tr>\n",
       "  </thead>\n",
       "  <tbody>\n",
       "    <tr>\n",
       "      <th>0</th>\n",
       "      <td>FAM58A</td>\n",
       "      <td>Truncating Mutations</td>\n",
       "      <td>1</td>\n",
       "      <td>Cyclin-dependent kinases (CDKs) regulate a var...</td>\n",
       "      <td>84</td>\n",
       "      <td>2626</td>\n",
       "    </tr>\n",
       "    <tr>\n",
       "      <th>1</th>\n",
       "      <td>CBL</td>\n",
       "      <td>W802*</td>\n",
       "      <td>2</td>\n",
       "      <td>Abstract Background  Non-small cell lung canc...</td>\n",
       "      <td>38</td>\n",
       "      <td>2853</td>\n",
       "    </tr>\n",
       "    <tr>\n",
       "      <th>2</th>\n",
       "      <td>CBL</td>\n",
       "      <td>Q249E</td>\n",
       "      <td>2</td>\n",
       "      <td>Abstract Background  Non-small cell lung canc...</td>\n",
       "      <td>38</td>\n",
       "      <td>1895</td>\n",
       "    </tr>\n",
       "    <tr>\n",
       "      <th>3</th>\n",
       "      <td>CBL</td>\n",
       "      <td>N454D</td>\n",
       "      <td>3</td>\n",
       "      <td>Recent evidence has demonstrated that acquired...</td>\n",
       "      <td>38</td>\n",
       "      <td>1665</td>\n",
       "    </tr>\n",
       "    <tr>\n",
       "      <th>4</th>\n",
       "      <td>CBL</td>\n",
       "      <td>L399V</td>\n",
       "      <td>4</td>\n",
       "      <td>Oncogenic mutations in the monomeric Casitas B...</td>\n",
       "      <td>38</td>\n",
       "      <td>1445</td>\n",
       "    </tr>\n",
       "    <tr>\n",
       "      <th>5</th>\n",
       "      <td>CBL</td>\n",
       "      <td>V391I</td>\n",
       "      <td>4</td>\n",
       "      <td>Oncogenic mutations in the monomeric Casitas B...</td>\n",
       "      <td>38</td>\n",
       "      <td>2720</td>\n",
       "    </tr>\n",
       "    <tr>\n",
       "      <th>6</th>\n",
       "      <td>CBL</td>\n",
       "      <td>V430M</td>\n",
       "      <td>5</td>\n",
       "      <td>Oncogenic mutations in the monomeric Casitas B...</td>\n",
       "      <td>38</td>\n",
       "      <td>2724</td>\n",
       "    </tr>\n",
       "    <tr>\n",
       "      <th>7</th>\n",
       "      <td>CBL</td>\n",
       "      <td>Deletion</td>\n",
       "      <td>1</td>\n",
       "      <td>CBL is a negative regulator of activated recep...</td>\n",
       "      <td>38</td>\n",
       "      <td>473</td>\n",
       "    </tr>\n",
       "    <tr>\n",
       "      <th>8</th>\n",
       "      <td>CBL</td>\n",
       "      <td>Y371H</td>\n",
       "      <td>4</td>\n",
       "      <td>Abstract Juvenile myelomonocytic leukemia (JM...</td>\n",
       "      <td>38</td>\n",
       "      <td>2920</td>\n",
       "    </tr>\n",
       "    <tr>\n",
       "      <th>9</th>\n",
       "      <td>CBL</td>\n",
       "      <td>C384R</td>\n",
       "      <td>4</td>\n",
       "      <td>Abstract Juvenile myelomonocytic leukemia (JM...</td>\n",
       "      <td>38</td>\n",
       "      <td>212</td>\n",
       "    </tr>\n",
       "  </tbody>\n",
       "</table>\n",
       "</div>"
      ],
      "text/plain": [
       "     Gene             Variation  Class  \\\n",
       "0  FAM58A  Truncating Mutations      1   \n",
       "1     CBL                 W802*      2   \n",
       "2     CBL                 Q249E      2   \n",
       "3     CBL                 N454D      3   \n",
       "4     CBL                 L399V      4   \n",
       "5     CBL                 V391I      4   \n",
       "6     CBL                 V430M      5   \n",
       "7     CBL              Deletion      1   \n",
       "8     CBL                 Y371H      4   \n",
       "9     CBL                 C384R      4   \n",
       "\n",
       "                                                TEXT  Gene_Enc  Variation_Enc  \n",
       "0  Cyclin-dependent kinases (CDKs) regulate a var...        84           2626  \n",
       "1   Abstract Background  Non-small cell lung canc...        38           2853  \n",
       "2   Abstract Background  Non-small cell lung canc...        38           1895  \n",
       "3  Recent evidence has demonstrated that acquired...        38           1665  \n",
       "4  Oncogenic mutations in the monomeric Casitas B...        38           1445  \n",
       "5  Oncogenic mutations in the monomeric Casitas B...        38           2720  \n",
       "6  Oncogenic mutations in the monomeric Casitas B...        38           2724  \n",
       "7  CBL is a negative regulator of activated recep...        38            473  \n",
       "8   Abstract Juvenile myelomonocytic leukemia (JM...        38           2920  \n",
       "9   Abstract Juvenile myelomonocytic leukemia (JM...        38            212  "
      ]
     },
     "execution_count": 97,
     "metadata": {},
     "output_type": "execute_result"
    }
   ],
   "source": [
    "df_training.head(10)"
   ]
  },
  {
   "cell_type": "code",
   "execution_count": 124,
   "id": "c6323835",
   "metadata": {},
   "outputs": [],
   "source": [
    "df_pred = df_training[1:2]"
   ]
  },
  {
   "cell_type": "code",
   "execution_count": 125,
   "id": "06db3677-c100-463b-9726-b50db29bd19e",
   "metadata": {},
   "outputs": [
    {
     "data": {
      "text/html": [
       "<div>\n",
       "<style scoped>\n",
       "    .dataframe tbody tr th:only-of-type {\n",
       "        vertical-align: middle;\n",
       "    }\n",
       "\n",
       "    .dataframe tbody tr th {\n",
       "        vertical-align: top;\n",
       "    }\n",
       "\n",
       "    .dataframe thead th {\n",
       "        text-align: right;\n",
       "    }\n",
       "</style>\n",
       "<table border=\"1\" class=\"dataframe\">\n",
       "  <thead>\n",
       "    <tr style=\"text-align: right;\">\n",
       "      <th></th>\n",
       "      <th>Gene</th>\n",
       "      <th>Variation</th>\n",
       "      <th>Class</th>\n",
       "      <th>TEXT</th>\n",
       "      <th>Gene_Enc</th>\n",
       "      <th>Variation_Enc</th>\n",
       "    </tr>\n",
       "  </thead>\n",
       "  <tbody>\n",
       "    <tr>\n",
       "      <th>1</th>\n",
       "      <td>CBL</td>\n",
       "      <td>W802*</td>\n",
       "      <td>2</td>\n",
       "      <td>Abstract Background  Non-small cell lung canc...</td>\n",
       "      <td>38</td>\n",
       "      <td>2853</td>\n",
       "    </tr>\n",
       "  </tbody>\n",
       "</table>\n",
       "</div>"
      ],
      "text/plain": [
       "  Gene Variation  Class                                               TEXT  \\\n",
       "1  CBL     W802*      2   Abstract Background  Non-small cell lung canc...   \n",
       "\n",
       "   Gene_Enc  Variation_Enc  \n",
       "1        38           2853  "
      ]
     },
     "execution_count": 125,
     "metadata": {},
     "output_type": "execute_result"
    }
   ],
   "source": [
    "df_pred"
   ]
  },
  {
   "cell_type": "code",
   "execution_count": 126,
   "id": "a03bda83-b63f-4ee3-867f-b71543600d89",
   "metadata": {},
   "outputs": [],
   "source": [
    "df_pred_Text = df_training_text[1:2]"
   ]
  },
  {
   "cell_type": "code",
   "execution_count": 127,
   "id": "34cb4c06-5d98-4f54-9fe2-03b8cab2969e",
   "metadata": {},
   "outputs": [],
   "source": [
    "df_pred['TEXT'] = df_pred_Text['TEXT']"
   ]
  },
  {
   "cell_type": "code",
   "execution_count": 128,
   "id": "540cd393-1957-46c8-af51-3e11db07b851",
   "metadata": {},
   "outputs": [
    {
     "data": {
      "text/html": [
       "<div>\n",
       "<style scoped>\n",
       "    .dataframe tbody tr th:only-of-type {\n",
       "        vertical-align: middle;\n",
       "    }\n",
       "\n",
       "    .dataframe tbody tr th {\n",
       "        vertical-align: top;\n",
       "    }\n",
       "\n",
       "    .dataframe thead th {\n",
       "        text-align: right;\n",
       "    }\n",
       "</style>\n",
       "<table border=\"1\" class=\"dataframe\">\n",
       "  <thead>\n",
       "    <tr style=\"text-align: right;\">\n",
       "      <th></th>\n",
       "      <th>Gene</th>\n",
       "      <th>Variation</th>\n",
       "      <th>Class</th>\n",
       "      <th>TEXT</th>\n",
       "      <th>Gene_Enc</th>\n",
       "      <th>Variation_Enc</th>\n",
       "    </tr>\n",
       "  </thead>\n",
       "  <tbody>\n",
       "    <tr>\n",
       "      <th>1</th>\n",
       "      <td>CBL</td>\n",
       "      <td>W802*</td>\n",
       "      <td>2</td>\n",
       "      <td>Abstract Background  Non-small cell lung canc...</td>\n",
       "      <td>38</td>\n",
       "      <td>2853</td>\n",
       "    </tr>\n",
       "  </tbody>\n",
       "</table>\n",
       "</div>"
      ],
      "text/plain": [
       "  Gene Variation  Class                                               TEXT  \\\n",
       "1  CBL     W802*      2   Abstract Background  Non-small cell lung canc...   \n",
       "\n",
       "   Gene_Enc  Variation_Enc  \n",
       "1        38           2853  "
      ]
     },
     "execution_count": 128,
     "metadata": {},
     "output_type": "execute_result"
    }
   ],
   "source": [
    "df_pred"
   ]
  },
  {
   "cell_type": "code",
   "execution_count": 129,
   "id": "e5f0284c-89ff-4e1d-acbc-cef91d4d060b",
   "metadata": {},
   "outputs": [],
   "source": [
    "df_pred = df_pred[['Gene', 'Variation','TEXT','Class']]"
   ]
  },
  {
   "cell_type": "code",
   "execution_count": 130,
   "id": "63be0371-8eac-4d6c-b3be-949c3f5df8c9",
   "metadata": {},
   "outputs": [
    {
     "data": {
      "text/html": [
       "<div>\n",
       "<style scoped>\n",
       "    .dataframe tbody tr th:only-of-type {\n",
       "        vertical-align: middle;\n",
       "    }\n",
       "\n",
       "    .dataframe tbody tr th {\n",
       "        vertical-align: top;\n",
       "    }\n",
       "\n",
       "    .dataframe thead th {\n",
       "        text-align: right;\n",
       "    }\n",
       "</style>\n",
       "<table border=\"1\" class=\"dataframe\">\n",
       "  <thead>\n",
       "    <tr style=\"text-align: right;\">\n",
       "      <th></th>\n",
       "      <th>Gene</th>\n",
       "      <th>Variation</th>\n",
       "      <th>TEXT</th>\n",
       "      <th>Class</th>\n",
       "    </tr>\n",
       "  </thead>\n",
       "  <tbody>\n",
       "    <tr>\n",
       "      <th>1</th>\n",
       "      <td>CBL</td>\n",
       "      <td>W802*</td>\n",
       "      <td>Abstract Background  Non-small cell lung canc...</td>\n",
       "      <td>2</td>\n",
       "    </tr>\n",
       "  </tbody>\n",
       "</table>\n",
       "</div>"
      ],
      "text/plain": [
       "  Gene Variation                                               TEXT  Class\n",
       "1  CBL     W802*   Abstract Background  Non-small cell lung canc...      2"
      ]
     },
     "execution_count": 130,
     "metadata": {},
     "output_type": "execute_result"
    }
   ],
   "source": [
    "df_pred"
   ]
  },
  {
   "cell_type": "code",
   "execution_count": 131,
   "id": "1b963b3d-9cc5-425c-8e30-5dab8349a012",
   "metadata": {},
   "outputs": [],
   "source": [
    "# Create TF-IDF features\n",
    "tfidf_vectorizer = TfidfVectorizer(stop_words='english')\n",
    "X_tfidf = tfidf_vectorizer.fit_transform(df_pred['TEXT'])\n",
    "\n",
    "# Convert the sparse matrix to a DataFrame\n",
    "tfidf_df = pd.DataFrame(X_tfidf.toarray(), columns=tfidf_vectorizer.get_feature_names_out())\n",
    "\n",
    "# Join the TF-IDF DataFrame with the original DataFrame\n",
    "df_combined = pd.concat([df_pred.reset_index(drop=True), tfidf_df.reset_index(drop=True)], axis=1)\n",
    "\n",
    "# One-hot encode the categorical variables\n",
    "one_hot_encoder = OneHotEncoder()\n",
    "X_categorical = one_hot_encoder.fit_transform(df_pred[['Gene', 'Variation']])\n",
    "\n",
    "# Combine the categorical and TF-IDF features\n",
    "X_combined = hstack([X_categorical, X_tfidf])\n",
    "\n",
    "# Prepare the target variable\n",
    "y = df_pred['Class']\n",
    "\n",
    "\n",
    "# Make predictions on the testing set\n",
    "previsoes_v4 = svm_model_v4.predict(X_test[4])"
   ]
  },
  {
   "cell_type": "code",
   "execution_count": null,
   "id": "551f0d19-38b1-4a73-94c1-d15de4170ec2",
   "metadata": {},
   "outputs": [],
   "source": []
  }
 ],
 "metadata": {
  "kernelspec": {
   "display_name": "Python 3 (ipykernel)",
   "language": "python",
   "name": "python3"
  },
  "language_info": {
   "codemirror_mode": {
    "name": "ipython",
    "version": 3
   },
   "file_extension": ".py",
   "mimetype": "text/x-python",
   "name": "python",
   "nbconvert_exporter": "python",
   "pygments_lexer": "ipython3",
   "version": "3.9.12"
  }
 },
 "nbformat": 4,
 "nbformat_minor": 5
}
